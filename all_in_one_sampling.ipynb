{
 "cells": [
  {
   "cell_type": "markdown",
   "metadata": {},
   "source": [
    "# All in one sampling ipynb\n",
    "\n",
    "This file is for evaluation of CM-SH model that measure the FID score of \n",
    "1. one-step sampling for CM\n",
    "2. multi-step sampling for CM\n",
    "3. multi-step sampling for SH "
   ]
  },
  {
   "cell_type": "code",
   "execution_count": 1,
   "metadata": {},
   "outputs": [
    {
     "name": "stderr",
     "output_type": "stream",
     "text": [
      "2023-12-07 07:56:49.816411: E external/local_xla/xla/stream_executor/cuda/cuda_dnn.cc:9261] Unable to register cuDNN factory: Attempting to register factory for plugin cuDNN when one has already been registered\n",
      "2023-12-07 07:56:49.816472: E external/local_xla/xla/stream_executor/cuda/cuda_fft.cc:607] Unable to register cuFFT factory: Attempting to register factory for plugin cuFFT when one has already been registered\n",
      "2023-12-07 07:56:49.818848: E external/local_xla/xla/stream_executor/cuda/cuda_blas.cc:1515] Unable to register cuBLAS factory: Attempting to register factory for plugin cuBLAS when one has already been registered\n",
      "2023-12-07 07:56:51.497149: W tensorflow/compiler/tf2tensorrt/utils/py_utils.cc:38] TF-TRT Warning: Could not find TensorRT\n",
      "/home/djfelrl11/diffusion/venv/lib/python3.10/site-packages/tqdm/auto.py:21: TqdmWarning: IProgress not found. Please update jupyter and ipywidgets. See https://ipywidgets.readthedocs.io/en/stable/user_install.html\n",
      "  from .autonotebook import tqdm as notebook_tqdm\n"
     ]
    }
   ],
   "source": [
    "import jax\n",
    "import jax.numpy as jnp\n",
    "import flax\n",
    "\n",
    "import matplotlib.pyplot as plt\n",
    "import yaml\n",
    "import omegaconf\n",
    "import hydra\n",
    "from hydra import initialize, compose\n",
    "\n",
    "from framework.unifying_framework import UnifyingFramework\n",
    "from framework.diffusion.consistency_framework import CMFramework\n",
    "from framework.diffusion.edm_framework import EDMFramework\n",
    "\n",
    "from utils import common_utils\n",
    "from utils.fid_utils import FIDUtils\n",
    "from utils.fs_utils import FSUtils\n",
    "\n",
    "from tqdm import tqdm\n",
    "\n",
    "from functools import partial\n",
    "\n",
    "import os "
   ]
  },
  {
   "cell_type": "code",
   "execution_count": 2,
   "metadata": {},
   "outputs": [],
   "source": [
    "# Make new directory for storing samples for each sampling mode\n",
    "default_path = \"tmp/\"\n",
    "edm_multistep = default_path+ \"edm_multistep\"\n",
    "cm_onestep = default_path+ \"cm_onestep\"\n",
    "cm_multistep = default_path+ \"cm_multistep\"\n",
    "dir_list = [cm_onestep, cm_multistep, edm_multistep]\n",
    "for dir_elem in dir_list:\n",
    "    os.makedirs(dir_elem, exist_ok=True)"
   ]
  },
  {
   "cell_type": "code",
   "execution_count": 3,
   "metadata": {},
   "outputs": [],
   "source": [
    "sampling_batch_num = 512\n",
    "total_sampling_num = 50000\n",
    "sigma_max = 80.0\n",
    "sigma_min = 0.002\n",
    "rho = 7"
   ]
  },
  {
   "cell_type": "code",
   "execution_count": 4,
   "metadata": {},
   "outputs": [
    {
     "name": "stderr",
     "output_type": "stream",
     "text": [
      "WARNING:absl:The transformations API will eventually be replaced by an upgraded design. The current API will not be removed until this point, but it will no longer be actively worked on.\n"
     ]
    },
    {
     "name": "stdout",
     "output_type": "stream",
     "text": [
      "Checkpoint 600010 loaded\n"
     ]
    },
    {
     "name": "stderr",
     "output_type": "stream",
     "text": [
      "WARNING:absl:The transformations API will eventually be replaced by an upgraded design. The current API will not be removed until this point, but it will no longer be actively worked on.\n"
     ]
    },
    {
     "name": "stdout",
     "output_type": "stream",
     "text": [
      "Checkpoint 600010 loaded\n"
     ]
    }
   ],
   "source": [
    "# Setting CM framework for sampling\n",
    "\n",
    "config_path = \"configs\"\n",
    "default_config_path = \"config\"\n",
    "rng = jax.random.PRNGKey(42)\n",
    "\n",
    "with initialize(version_base=None, config_path=config_path):\n",
    "    default_config = compose(config_name=default_config_path)\n",
    "default_config[\"do_training\"] = False\n",
    "model_type = default_config.type\n",
    "\n",
    "rng, denoiser_rng = jax.random.split(rng, 2)\n",
    "rng, consistency_rng = jax.random.split(rng, 2)\n",
    "# denoiser_framework = diffusion_framework.framework\n",
    "fid_utils = FIDUtils(default_config)\n",
    "fs_utils = FSUtils(default_config)\n",
    "\n",
    "consistency_framework = CMFramework(default_config, consistency_rng, fs_utils, None)"
   ]
  },
  {
   "cell_type": "code",
   "execution_count": 5,
   "metadata": {},
   "outputs": [
    {
     "name": "stdout",
     "output_type": "stream",
     "text": [
      "Sampling CM onestep and SH multistep\n"
     ]
    },
    {
     "name": "stderr",
     "output_type": "stream",
     "text": [
      "18it [01:16,  4.24s/it]\n",
      "18it [00:07,  2.39it/s]\n",
      "18it [00:07,  2.40it/s]\n",
      "18it [00:07,  2.40it/s]\n",
      "18it [00:07,  2.40it/s]\n",
      "18it [00:07,  2.40it/s]\n",
      "18it [00:07,  2.39it/s]\n",
      "18it [00:07,  2.39it/s]\n",
      "18it [00:07,  2.40it/s]\n",
      "18it [00:07,  2.40it/s]\n",
      "18it [00:07,  2.40it/s]\n",
      "18it [00:07,  2.40it/s]\n",
      "18it [00:07,  2.40it/s]\n",
      "18it [00:07,  2.39it/s]\n",
      "18it [00:07,  2.40it/s]\n",
      "18it [00:07,  2.39it/s]\n",
      "18it [00:07,  2.39it/s]\n",
      "18it [00:07,  2.40it/s]\n",
      "18it [00:07,  2.39it/s]\n",
      "18it [00:07,  2.39it/s]\n",
      "18it [00:07,  2.40it/s]\n",
      "18it [00:07,  2.40it/s]\n",
      "18it [00:07,  2.40it/s]\n",
      "18it [00:07,  2.40it/s]\n",
      "18it [00:07,  2.39it/s]\n",
      "18it [00:07,  2.39it/s]\n",
      "18it [00:07,  2.39it/s]\n",
      "18it [00:07,  2.39it/s]\n",
      "18it [00:07,  2.39it/s]\n",
      "18it [00:07,  2.39it/s]\n",
      "18it [00:07,  2.40it/s]\n",
      "18it [00:07,  2.39it/s]\n",
      "18it [00:07,  2.39it/s]\n",
      "18it [00:07,  2.39it/s]\n",
      "18it [00:07,  2.39it/s]\n",
      "18it [00:07,  2.39it/s]\n",
      "18it [00:07,  2.39it/s]\n",
      "18it [00:07,  2.39it/s]\n",
      "18it [00:07,  2.39it/s]\n",
      "18it [00:07,  2.39it/s]\n",
      "18it [00:07,  2.39it/s]\n",
      "18it [00:07,  2.39it/s]\n",
      "18it [00:07,  2.40it/s]\n",
      "18it [00:07,  2.39it/s]\n",
      "18it [00:07,  2.39it/s]\n",
      "18it [00:07,  2.39it/s]\n",
      "18it [00:07,  2.39it/s]\n",
      "18it [00:07,  2.39it/s]\n",
      "18it [00:07,  2.39it/s]\n",
      "18it [00:07,  2.39it/s]\n",
      "18it [00:07,  2.40it/s]\n",
      "18it [00:07,  2.40it/s]\n",
      "18it [00:07,  2.39it/s]\n",
      "18it [00:07,  2.39it/s]\n",
      "18it [00:07,  2.39it/s]\n",
      "18it [00:07,  2.39it/s]\n",
      "18it [00:07,  2.39it/s]\n",
      "18it [00:07,  2.39it/s]\n",
      "18it [00:07,  2.39it/s]\n",
      "18it [00:07,  2.39it/s]\n",
      "18it [00:07,  2.39it/s]\n",
      "18it [00:07,  2.39it/s]\n",
      "18it [00:07,  2.39it/s]\n",
      "18it [00:07,  2.39it/s]\n",
      "18it [00:07,  2.39it/s]\n",
      "18it [00:07,  2.39it/s]\n",
      "18it [00:07,  2.39it/s]\n",
      "18it [00:07,  2.39it/s]\n",
      "18it [00:07,  2.39it/s]\n",
      "18it [00:07,  2.39it/s]\n",
      "18it [00:07,  2.39it/s]\n",
      "18it [00:07,  2.39it/s]\n",
      "18it [00:07,  2.39it/s]\n",
      "18it [00:07,  2.39it/s]\n",
      "18it [00:07,  2.39it/s]\n",
      "18it [00:07,  2.39it/s]\n",
      "18it [00:07,  2.39it/s]\n",
      "18it [00:07,  2.39it/s]\n",
      "18it [00:07,  2.39it/s]\n",
      "18it [00:07,  2.39it/s]\n",
      "18it [00:07,  2.40it/s]\n",
      "18it [00:07,  2.39it/s]\n",
      "18it [00:07,  2.39it/s]\n",
      "18it [00:07,  2.39it/s]\n",
      "18it [00:07,  2.39it/s]\n",
      "18it [00:07,  2.39it/s]\n",
      "18it [00:07,  2.39it/s]\n",
      "18it [00:07,  2.40it/s]\n",
      "18it [00:07,  2.39it/s]\n",
      "18it [00:07,  2.39it/s]\n",
      "18it [00:07,  2.39it/s]\n",
      "18it [00:07,  2.40it/s]\n",
      "18it [00:07,  2.39it/s]\n",
      "18it [00:07,  2.39it/s]\n",
      "18it [00:07,  2.39it/s]\n",
      "18it [00:07,  2.39it/s]\n",
      "18it [00:07,  2.39it/s]\n",
      "18it [00:07,  2.39it/s]\n"
     ]
    }
   ],
   "source": [
    "# First, save SH and CM simultaneously if CM-SH mode\n",
    "current_num = 0\n",
    "print(\"Sampling CM onestep and SH multistep\")\n",
    "sampling_shape = (sampling_batch_num, 32, 32, 3)\n",
    "while total_sampling_num > current_num:\n",
    "    effective_batch_size = total_sampling_num - current_num if current_num + sampling_batch_num > total_sampling_num else sampling_batch_num\n",
    "    edm, cm = consistency_framework.sampling_edm_and_cm(sampling_batch_num)\n",
    "    edm = jnp.reshape(edm, sampling_shape)\n",
    "    cm = jnp.reshape(cm, sampling_shape)\n",
    "    fs_utils.save_images_to_dir(edm, starting_pos=current_num, save_path_dir=edm_multistep)\n",
    "    fs_utils.save_images_to_dir(cm, starting_pos=current_num, save_path_dir=cm_onestep)\n",
    "    current_num += sampling_batch_num"
   ]
  },
  {
   "cell_type": "code",
   "execution_count": 6,
   "metadata": {},
   "outputs": [
    {
     "name": "stdout",
     "output_type": "stream",
     "text": [
      "Loading cifar10 statistics\n"
     ]
    },
    {
     "name": "stderr",
     "output_type": "stream",
     "text": [
      "  0%|          | 0/50176 [00:00<?, ?it/s]"
     ]
    },
    {
     "name": "stderr",
     "output_type": "stream",
     "text": [
      "100%|██████████| 50176/50176 [03:03<00:00, 273.57it/s]\n",
      "100%|██████████| 1003/1003 [04:58<00:00,  3.36it/s]\n"
     ]
    },
    {
     "name": "stdout",
     "output_type": "stream",
     "text": [
      "EDM multistep score: 5.840\n",
      "Loading cifar10 statistics\n"
     ]
    },
    {
     "name": "stderr",
     "output_type": "stream",
     "text": [
      "100%|██████████| 50176/50176 [02:31<00:00, 330.71it/s]\n",
      "100%|██████████| 1003/1003 [04:00<00:00,  4.17it/s]\n"
     ]
    },
    {
     "name": "stdout",
     "output_type": "stream",
     "text": [
      "CM onestep score: 16.930\n"
     ]
    }
   ],
   "source": [
    "edm_multistep_fid_score = fid_utils.calculate_fid(edm_multistep)\n",
    "print(f\"EDM multistep score: {edm_multistep_fid_score:.3f}\")\n",
    "cm_onestep_fid_score = fid_utils.calculate_fid(cm_onestep)\n",
    "print(f\"CM onestep score: {cm_onestep_fid_score:.3f}\")"
   ]
  },
  {
   "cell_type": "code",
   "execution_count": 17,
   "metadata": {},
   "outputs": [],
   "source": [
    "# Next, do some CM multistep sampling\n",
    "\n",
    "def stochastic_iterative_sampler(\n",
    "    rng,\n",
    "    num_sampling,\n",
    "    distiller: CMFramework,\n",
    "    ts,\n",
    "    t_min=0.002,\n",
    "    t_max=80.0,\n",
    "    rho=7.0,\n",
    "    steps=40,\n",
    "):\n",
    "    t_max_rho = t_max ** (1 / rho)\n",
    "    t_min_rho = t_min ** (1 / rho)\n",
    "\n",
    "    params = flax.jax_utils.replicate(distiller.torso_state.params_ema)\n",
    "    sampling_fn = distiller.p_sample_cm # params: sampling_params, latent_sample, rng_key, gamma, t_max, t_min\n",
    "    \n",
    "    # Sampling x from sampler\n",
    "    input_shape = (jax.local_device_count(), num_sampling // jax.local_device_count(), 32, 32, 3)\n",
    "    rng, sampling_key = jax.random.split(rng, 2)\n",
    "    x = jax.random.normal(sampling_key, input_shape) * t_max\n",
    "    \n",
    "\n",
    "    for i in range(len(ts) - 1):\n",
    "        t = (t_max_rho + ts[i] / (steps - 1) * (t_min_rho - t_max_rho)) ** rho\n",
    "\n",
    "        # x0 = distiller(x, t * s_in)\n",
    "        sampling_key, p_sample_key = jax.random.split(sampling_key, 2)\n",
    "        p_sample_key = jax.random.split(p_sample_key, jax.local_device_count())\n",
    "        \n",
    "        t_param = jnp.asarray([t] * jax.local_device_count())\n",
    "        t_min_param = jnp.asarray([t_min] * jax.local_device_count())\n",
    "        gamma = jnp.zeros((jax.local_device_count(),))\n",
    "\n",
    "        x0 = sampling_fn(params, x, p_sample_key, gamma, t_param, t_min_param)\n",
    "        next_t = (t_max_rho + ts[i + 1] / (steps - 1) * (t_min_rho - t_max_rho)) ** rho\n",
    "        next_t = jnp.clip(next_t, t_min, t_max)\n",
    "\n",
    "        rng, normal_rng = jax.random.split(rng, 2)\n",
    "        x = x0 + jax.random.normal(normal_rng, input_shape) * jnp.sqrt(next_t**2 - t_min**2)\n",
    "    \n",
    "    return x"
   ]
  },
  {
   "cell_type": "code",
   "execution_count": 18,
   "metadata": {},
   "outputs": [],
   "source": [
    "def get_fid(rng, sampling_fn, p, begin=(0,), end=(17, ), sample_dir=\".\"):\n",
    "    total_size = 50000\n",
    "    batch_size = sampling_batch_num\n",
    "    current_sampling_num = 0\n",
    "\n",
    "    ts = begin + (p,) + end\n",
    "    tmp_dir = os.path.join(sample_dir, f\"{p}\")\n",
    "    if not os.path.exists(tmp_dir):\n",
    "        os.mkdir(tmp_dir)\n",
    "\n",
    "    filelist = os.listdir(tmp_dir)\n",
    "    \n",
    "    if len(filelist) == total_size:\n",
    "        fid = fid_utils.calculate_fid(tmp_dir)\n",
    "        return fid\n",
    "\n",
    "    while current_sampling_num < total_size:\n",
    "        effective_sampling = batch_size \\\n",
    "            if (total_size - current_sampling_num) // batch_size != 0 \\\n",
    "            else total_size - current_sampling_num\n",
    "\n",
    "        rng, sampling_rng = jax.random.split(rng, 2)\n",
    "        x0 = sampling_fn(rng=sampling_rng, num_sampling=effective_sampling, ts=ts)\n",
    "        x0 = x0.reshape(-1, *x0.shape[-3:])\n",
    "        fs_utils.save_images_to_dir(x0, tmp_dir, current_sampling_num)\n",
    "        current_sampling_num += effective_sampling\n",
    "    \n",
    "    fid = fid_utils.calculate_fid(tmp_dir)\n",
    "    return fid"
   ]
  },
  {
   "cell_type": "code",
   "execution_count": 19,
   "metadata": {},
   "outputs": [],
   "source": [
    "def ternery_search(rng, sampling_fn, fid_obj, before, after, sample_dir=\".\"):\n",
    "    right = after[0]\n",
    "    left = before[-1]\n",
    "    while right - left >= 3:\n",
    "        m1 = int(left + (right - left) / 3.0)\n",
    "        m2 = int(right - (right - left) / 3.0)\n",
    "        f1 = get_fid(rng, sampling_fn, m1, before, after, sample_dir=sample_dir)\n",
    "\n",
    "        # logger.log(f\"fid at m1 = {m1} is {f1}, IS is {is1}\")\n",
    "        print(f\"fid at m1 = {m1} is {f1}\")\n",
    "        f2 = get_fid(rng, sampling_fn, m2, before, after, sample_dir=sample_dir)\n",
    "\n",
    "        print(f\"fid at m2 = {m2} is {f2}\")\n",
    "\n",
    "        if f1 < f2:\n",
    "            right = m2\n",
    "        else:\n",
    "            left = m1\n",
    "\n",
    "        print(f\"new interval is [{left}, {right}]\")\n",
    "\n",
    "    if right == left:\n",
    "        p = right\n",
    "    elif right - left == 1:\n",
    "        f1 = get_fid(rng, sampling_fn, left, before, after, sample_dir=sample_dir)\n",
    "        f2 = get_fid(rng, sampling_fn, right, before, after, sample_dir=sample_dir)\n",
    "        p = m1 if f1 < f2 else m2\n",
    "    elif right - left == 2:\n",
    "        mid = left + 1\n",
    "        f1 = get_fid(rng, sampling_fn, left, before, after, sample_dir=sample_dir)\n",
    "        f2 = get_fid(rng, sampling_fn, right, before, after, sample_dir=sample_dir)\n",
    "        fmid = get_fid(rng, sampling_fn, mid, before, after, sample_dir=sample_dir)\n",
    "\n",
    "        print(f\"fmid at mid = {mid} is {fmid}\")\n",
    "\n",
    "        if fmid < f1 and fmid < f2:\n",
    "            p = mid\n",
    "        elif f1 < f2:\n",
    "            p = m1\n",
    "        else:\n",
    "            p = m2\n",
    "\n",
    "    return p"
   ]
  },
  {
   "cell_type": "code",
   "execution_count": 20,
   "metadata": {},
   "outputs": [],
   "source": [
    "steps = 18\n",
    "begin = (0,)\n",
    "end = (steps - 1,)"
   ]
  },
  {
   "cell_type": "code",
   "execution_count": 21,
   "metadata": {},
   "outputs": [
    {
     "name": "stdout",
     "output_type": "stream",
     "text": [
      "Loading cifar10 statistics\n"
     ]
    },
    {
     "name": "stderr",
     "output_type": "stream",
     "text": [
      "100%|██████████| 50000/50000 [02:30<00:00, 332.18it/s]\n",
      "100%|██████████| 1000/1000 [03:37<00:00,  4.59it/s]\n"
     ]
    },
    {
     "name": "stdout",
     "output_type": "stream",
     "text": [
      "fid at m1 = 5 is 14.208711181519902\n",
      "Loading cifar10 statistics\n"
     ]
    },
    {
     "name": "stderr",
     "output_type": "stream",
     "text": [
      "100%|██████████| 50000/50000 [02:32<00:00, 328.13it/s]\n",
      "100%|██████████| 1000/1000 [03:45<00:00,  4.44it/s]\n"
     ]
    },
    {
     "name": "stdout",
     "output_type": "stream",
     "text": [
      "fid at m2 = 11 is 13.182310649979286\n",
      "new interval is [5, 17]\n",
      "Loading cifar10 statistics\n"
     ]
    },
    {
     "name": "stderr",
     "output_type": "stream",
     "text": [
      "100%|██████████| 50000/50000 [02:32<00:00, 328.25it/s]\n",
      "100%|██████████| 1000/1000 [03:44<00:00,  4.45it/s]\n"
     ]
    },
    {
     "name": "stdout",
     "output_type": "stream",
     "text": [
      "fid at m1 = 9 is 12.208069572387103\n",
      "Loading cifar10 statistics\n"
     ]
    },
    {
     "name": "stderr",
     "output_type": "stream",
     "text": [
      "100%|██████████| 50000/50000 [02:29<00:00, 333.48it/s]\n",
      "100%|██████████| 1000/1000 [03:43<00:00,  4.48it/s]\n"
     ]
    },
    {
     "name": "stdout",
     "output_type": "stream",
     "text": [
      "fid at m2 = 13 is 16.016940955749988\n",
      "new interval is [5, 13]\n",
      "Loading cifar10 statistics\n"
     ]
    },
    {
     "name": "stderr",
     "output_type": "stream",
     "text": [
      "100%|██████████| 50000/50000 [02:30<00:00, 333.04it/s]\n",
      "100%|██████████| 1000/1000 [03:42<00:00,  4.50it/s]\n"
     ]
    },
    {
     "name": "stdout",
     "output_type": "stream",
     "text": [
      "fid at m1 = 7 is 13.245693092105\n",
      "Loading cifar10 statistics\n"
     ]
    },
    {
     "name": "stderr",
     "output_type": "stream",
     "text": [
      "100%|██████████| 50000/50000 [02:30<00:00, 331.43it/s]\n",
      "100%|██████████| 1000/1000 [03:44<00:00,  4.46it/s]\n"
     ]
    },
    {
     "name": "stdout",
     "output_type": "stream",
     "text": [
      "fid at m2 = 10 is 12.416339673587913\n",
      "new interval is [7, 13]\n",
      "Loading cifar10 statistics\n"
     ]
    },
    {
     "name": "stderr",
     "output_type": "stream",
     "text": [
      "100%|██████████| 50000/50000 [02:30<00:00, 332.27it/s]\n",
      "100%|██████████| 1000/1000 [03:44<00:00,  4.46it/s]\n"
     ]
    },
    {
     "name": "stdout",
     "output_type": "stream",
     "text": [
      "fid at m1 = 9 is 12.208069572387103\n",
      "Loading cifar10 statistics\n"
     ]
    },
    {
     "name": "stderr",
     "output_type": "stream",
     "text": [
      "100%|██████████| 50000/50000 [02:30<00:00, 332.14it/s]\n",
      "100%|██████████| 1000/1000 [03:43<00:00,  4.48it/s]\n"
     ]
    },
    {
     "name": "stdout",
     "output_type": "stream",
     "text": [
      "fid at m2 = 11 is 13.182310649979286\n",
      "new interval is [7, 11]\n",
      "Loading cifar10 statistics\n"
     ]
    },
    {
     "name": "stderr",
     "output_type": "stream",
     "text": [
      "100%|██████████| 50000/50000 [02:30<00:00, 331.53it/s]\n",
      "100%|██████████| 1000/1000 [03:45<00:00,  4.44it/s]\n"
     ]
    },
    {
     "name": "stdout",
     "output_type": "stream",
     "text": [
      "fid at m1 = 8 is 12.763328256248315\n",
      "Loading cifar10 statistics\n"
     ]
    },
    {
     "name": "stderr",
     "output_type": "stream",
     "text": [
      "100%|██████████| 50000/50000 [02:30<00:00, 331.98it/s]\n",
      "100%|██████████| 1000/1000 [03:43<00:00,  4.48it/s]\n"
     ]
    },
    {
     "name": "stdout",
     "output_type": "stream",
     "text": [
      "fid at m2 = 9 is 12.208069572387103\n",
      "new interval is [8, 11]\n"
     ]
    }
   ],
   "source": [
    "sampler = partial(stochastic_iterative_sampler, # need rng, num_sampling, ts\n",
    "    distiller=consistency_framework,\n",
    "    t_min=sigma_min,\n",
    "    t_max=sigma_max,\n",
    "    rho=rho,\n",
    "    steps=steps)\n",
    "rng, cm_multistep_sampling = jax.random.split(rng, 2)\n",
    "\n",
    "ternery_search(cm_multistep_sampling, sampler, fid_utils, begin, end, cm_multistep)"
   ]
  },
  {
   "cell_type": "code",
   "execution_count": null,
   "metadata": {},
   "outputs": [],
   "source": []
  }
 ],
 "metadata": {
  "kernelspec": {
   "display_name": "venv",
   "language": "python",
   "name": "python3"
  },
  "language_info": {
   "codemirror_mode": {
    "name": "ipython",
    "version": 3
   },
   "file_extension": ".py",
   "mimetype": "text/x-python",
   "name": "python",
   "nbconvert_exporter": "python",
   "pygments_lexer": "ipython3",
   "version": "3.10.12"
  }
 },
 "nbformat": 4,
 "nbformat_minor": 2
}
