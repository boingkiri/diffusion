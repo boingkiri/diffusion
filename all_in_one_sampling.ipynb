{
 "cells": [
  {
   "cell_type": "markdown",
   "metadata": {},
   "source": [
    "# All in one sampling ipynb\n",
    "\n",
    "This file is for evaluation of CM-SH model that measure the FID score of \n",
    "1. one-step sampling for CM\n",
    "2. multi-step sampling for CM\n",
    "3. multi-step sampling for SH "
   ]
  },
  {
   "cell_type": "code",
   "execution_count": 5,
   "metadata": {},
   "outputs": [],
   "source": [
    "import jax\n",
    "import jax.numpy as jnp\n",
    "import flax\n",
    "\n",
    "import matplotlib.pyplot as plt\n",
    "import yaml\n",
    "import omegaconf\n",
    "import hydra\n",
    "from hydra import initialize, compose\n",
    "\n",
    "from framework.unifying_framework import UnifyingFramework\n",
    "from framework.diffusion.consistency_framework import CMFramework\n",
    "from framework.diffusion.edm_framework import EDMFramework\n",
    "\n",
    "from utils import common_utils\n",
    "from utils.fid_utils import FIDUtils\n",
    "from utils.fs_utils import FSUtils\n",
    "\n",
    "from tqdm import tqdm\n",
    "\n",
    "from functools import partial\n",
    "\n",
    "import os "
   ]
  },
  {
   "cell_type": "code",
   "execution_count": 6,
   "metadata": {},
   "outputs": [],
   "source": [
    "# Make new directory for storing samples for each sampling mode\n",
    "default_path = \"tmp/\"\n",
    "edm_multistep = default_path+ \"edm_multistep\"\n",
    "cm_onestep = default_path+ \"cm_onestep\"\n",
    "cm_multistep = default_path+ \"cm_multistep\"\n",
    "dir_list = [cm_onestep, cm_multistep, edm_multistep]\n",
    "for dir_elem in dir_list:\n",
    "    os.makedirs(dir_elem, exist_ok=True)"
   ]
  },
  {
   "cell_type": "code",
   "execution_count": 7,
   "metadata": {},
   "outputs": [],
   "source": [
    "sampling_batch_num = 512\n",
    "total_sampling_num = 50000\n",
    "sigma_max = 80.0\n",
    "sigma_min = 0.002\n",
    "rho = 7"
   ]
  },
  {
   "cell_type": "code",
   "execution_count": 8,
   "metadata": {},
   "outputs": [],
   "source": [
    "# Setting CM framework for sampling\n",
    "\n",
    "\n",
    "\n",
    "config_path = \"configs\"\n",
    "default_config_path = \"config\"\n",
    "rng = jax.random.PRNGKey(42)\n",
    "\n",
    "with initialize(version_base=None, config_path=config_path):\n",
    "    default_config = compose(config_name=default_config_path)\n",
    "default_config[\"do_training\"] = False\n",
    "model_type = default_config.type\n",
    "\n",
    "rng, denoiser_rng = jax.random.split(rng, 2)\n",
    "rng, consistency_rng = jax.random.split(rng, 2)\n",
    "# denoiser_framework = diffusion_framework.framework\n",
    "fid_utils = FIDUtils(default_config)\n",
    "fs_utils = FSUtils(default_config)\n",
    "\n",
    "consistency_framework = CMFramework(default_config, consistency_rng, fs_utils, None)"
   ]
  },
  {
   "cell_type": "code",
   "execution_count": 9,
   "metadata": {},
   "outputs": [
    {
     "name": "stdout",
     "output_type": "stream",
     "text": [
      "Sampling CM onestep and SH multistep\n"
     ]
    },
    {
     "name": "stderr",
     "output_type": "stream",
     "text": [
      "0it [00:00, ?it/s]"
     ]
    },
    {
     "name": "stderr",
     "output_type": "stream",
     "text": [
      "18it [01:00,  3.38s/it]\n",
      "18it [00:08,  2.11it/s]\n",
      "18it [00:08,  2.12it/s]\n",
      "18it [00:08,  2.12it/s]\n",
      "18it [00:08,  2.12it/s]\n",
      "18it [00:08,  2.11it/s]\n",
      "18it [00:08,  2.12it/s]\n",
      "18it [00:08,  2.12it/s]\n",
      "18it [00:08,  2.11it/s]\n",
      "18it [00:08,  2.12it/s]\n",
      "18it [00:08,  2.11it/s]\n",
      "18it [00:08,  2.12it/s]\n",
      "18it [00:08,  2.12it/s]\n",
      "18it [00:08,  2.11it/s]\n",
      "18it [00:08,  2.11it/s]\n",
      "18it [00:08,  2.11it/s]\n",
      "18it [00:08,  2.12it/s]\n",
      "18it [00:08,  2.12it/s]\n",
      "18it [00:08,  2.12it/s]\n",
      "18it [00:08,  2.11it/s]\n",
      "18it [00:08,  2.12it/s]\n",
      "18it [00:08,  2.12it/s]\n",
      "18it [00:08,  2.12it/s]\n",
      "18it [00:08,  2.12it/s]\n",
      "18it [00:08,  2.11it/s]\n",
      "18it [00:08,  2.12it/s]\n",
      "18it [00:08,  2.10it/s]\n",
      "18it [00:08,  2.10it/s]\n",
      "18it [00:08,  2.11it/s]\n",
      "18it [00:08,  2.11it/s]\n",
      "18it [00:08,  2.11it/s]\n",
      "18it [00:08,  2.11it/s]\n",
      "18it [00:08,  2.11it/s]\n",
      "18it [00:08,  2.10it/s]\n",
      "18it [00:08,  2.11it/s]\n",
      "18it [00:08,  2.11it/s]\n",
      "18it [00:08,  2.12it/s]\n",
      "18it [00:08,  2.12it/s]\n",
      "18it [00:08,  2.12it/s]\n",
      "18it [00:08,  2.11it/s]\n",
      "18it [00:08,  2.12it/s]\n",
      "18it [00:08,  2.12it/s]\n",
      "18it [00:08,  2.12it/s]\n",
      "18it [00:08,  2.12it/s]\n",
      "18it [00:08,  2.12it/s]\n",
      "18it [00:08,  2.12it/s]\n",
      "18it [00:08,  2.12it/s]\n",
      "18it [00:08,  2.11it/s]\n",
      "18it [00:08,  2.11it/s]\n",
      "18it [00:08,  2.11it/s]\n",
      "18it [00:08,  2.12it/s]\n",
      "18it [00:08,  2.12it/s]\n",
      "18it [00:08,  2.12it/s]\n",
      "18it [00:08,  2.12it/s]\n",
      "18it [00:08,  2.12it/s]\n",
      "18it [00:08,  2.12it/s]\n",
      "18it [00:08,  2.12it/s]\n",
      "18it [00:08,  2.11it/s]\n",
      "18it [00:08,  2.11it/s]\n",
      "18it [00:08,  2.12it/s]\n",
      "18it [00:08,  2.12it/s]\n",
      "18it [00:08,  2.12it/s]\n",
      "18it [00:08,  2.11it/s]\n",
      "18it [00:08,  2.12it/s]\n",
      "18it [00:08,  2.12it/s]\n",
      "18it [00:08,  2.12it/s]\n",
      "18it [00:08,  2.11it/s]\n",
      "18it [00:08,  2.12it/s]\n",
      "18it [00:08,  2.12it/s]\n",
      "18it [00:08,  2.12it/s]\n",
      "18it [00:08,  2.12it/s]\n",
      "18it [00:08,  2.12it/s]\n",
      "18it [00:08,  2.12it/s]\n",
      "18it [00:08,  2.11it/s]\n",
      "18it [00:08,  2.12it/s]\n",
      "18it [00:08,  2.12it/s]\n",
      "18it [00:08,  2.12it/s]\n",
      "18it [00:08,  2.12it/s]\n",
      "18it [00:08,  2.12it/s]\n",
      "18it [00:08,  2.12it/s]\n",
      "18it [00:08,  2.12it/s]\n",
      "18it [00:08,  2.12it/s]\n",
      "18it [00:08,  2.12it/s]\n",
      "18it [00:08,  2.11it/s]\n",
      "18it [00:08,  2.12it/s]\n",
      "18it [00:08,  2.12it/s]\n",
      "18it [00:08,  2.12it/s]\n",
      "18it [00:08,  2.12it/s]\n",
      "18it [00:08,  2.11it/s]\n",
      "18it [00:08,  2.12it/s]\n",
      "18it [00:08,  2.12it/s]\n",
      "18it [00:08,  2.11it/s]\n",
      "18it [00:08,  2.11it/s]\n",
      "18it [00:08,  2.11it/s]\n",
      "18it [00:08,  2.11it/s]\n",
      "18it [00:08,  2.11it/s]\n",
      "18it [00:08,  2.11it/s]\n",
      "18it [00:08,  2.11it/s]\n"
     ]
    }
   ],
   "source": [
    "# First, save SH and CM simultaneously if CM-SH mode\n",
    "current_num = 0\n",
    "print(\"Sampling CM onestep and SH multistep\")\n",
    "sampling_shape = (sampling_batch_num, 32, 32, 3)\n",
    "while total_sampling_num > current_num:\n",
    "    effective_batch_size = total_sampling_num - current_num if current_num + sampling_batch_num > total_sampling_num else sampling_batch_num\n",
    "    edm, cm = consistency_framework.sampling_edm_and_cm(sampling_batch_num)\n",
    "    edm = jnp.reshape(edm, sampling_shape)\n",
    "    cm = jnp.reshape(cm, sampling_shape)\n",
    "    fs_utils.save_images_to_dir(edm, starting_pos=current_num, save_path_dir=edm_multistep)\n",
    "    fs_utils.save_images_to_dir(cm, starting_pos=current_num, save_path_dir=cm_onestep)\n",
    "    current_num += sampling_batch_num"
   ]
  },
  {
   "cell_type": "code",
   "execution_count": 10,
   "metadata": {},
   "outputs": [
    {
     "name": "stdout",
     "output_type": "stream",
     "text": [
      "Loading cifar10 statistics\n"
     ]
    },
    {
     "name": "stderr",
     "output_type": "stream",
     "text": [
      "  0%|          | 50/50176 [00:00<01:41, 492.25it/s]"
     ]
    },
    {
     "name": "stderr",
     "output_type": "stream",
     "text": [
      "100%|██████████| 50176/50176 [02:06<00:00, 397.07it/s]\n",
      "100%|██████████| 1003/1003 [03:29<00:00,  4.80it/s]\n"
     ]
    },
    {
     "name": "stdout",
     "output_type": "stream",
     "text": [
      "EDM multistep score: 4.585\n",
      "Loading cifar10 statistics\n"
     ]
    },
    {
     "name": "stderr",
     "output_type": "stream",
     "text": [
      "100%|██████████| 50176/50176 [01:42<00:00, 487.97it/s]\n",
      "100%|██████████| 1003/1003 [02:33<00:00,  6.53it/s]\n"
     ]
    },
    {
     "name": "stdout",
     "output_type": "stream",
     "text": [
      "CM onestep score: 26.541\n"
     ]
    }
   ],
   "source": [
    "edm_multistep_fid_score = fid_utils.calculate_fid(edm_multistep)\n",
    "print(f\"EDM multistep score: {edm_multistep_fid_score:.3f}\")\n",
    "cm_onestep_fid_score = fid_utils.calculate_fid(cm_onestep)\n",
    "print(f\"CM onestep score: {cm_onestep_fid_score:.3f}\")"
   ]
  },
  {
   "cell_type": "code",
   "execution_count": null,
   "metadata": {},
   "outputs": [],
   "source": [
    "# Next, do some CM multistep sampling\n",
    "multisampling_fid_dict = {}"
   ]
  },
  {
   "cell_type": "code",
   "execution_count": 11,
   "metadata": {},
   "outputs": [],
   "source": [
    "\n",
    "\n",
    "def stochastic_iterative_sampler(\n",
    "    rng,\n",
    "    num_sampling,\n",
    "    distiller: CMFramework,\n",
    "    ts,\n",
    "    t_min=0.002,\n",
    "    t_max=80.0,\n",
    "    rho=7.0,\n",
    "    steps=40,\n",
    "):\n",
    "    t_max_rho = t_max ** (1 / rho)\n",
    "    t_min_rho = t_min ** (1 / rho)\n",
    "\n",
    "    params = flax.jax_utils.replicate(distiller.torso_state.params_ema)\n",
    "    sampling_fn = distiller.p_sample_cm # params: sampling_params, latent_sample, rng_key, gamma, t_max, t_min\n",
    "    \n",
    "    # Sampling x from sampler\n",
    "    input_shape = (jax.local_device_count(), num_sampling // jax.local_device_count(), 32, 32, 3)\n",
    "    rng, sampling_key = jax.random.split(rng, 2)\n",
    "    x = jax.random.normal(sampling_key, input_shape) * t_max\n",
    "    \n",
    "\n",
    "    for i in range(len(ts) - 1):\n",
    "        t = (t_max_rho + ts[i] / (steps - 1) * (t_min_rho - t_max_rho)) ** rho\n",
    "\n",
    "        # x0 = distiller(x, t * s_in)\n",
    "        sampling_key, p_sample_key = jax.random.split(sampling_key, 2)\n",
    "        p_sample_key = jax.random.split(p_sample_key, jax.local_device_count())\n",
    "        \n",
    "        t_param = jnp.asarray([t] * jax.local_device_count())\n",
    "        t_min_param = jnp.asarray([t_min] * jax.local_device_count())\n",
    "        gamma = jnp.zeros((jax.local_device_count(),))\n",
    "\n",
    "        x0 = sampling_fn(params, x, p_sample_key, gamma, t_param, t_min_param)\n",
    "        next_t = (t_max_rho + ts[i + 1] / (steps - 1) * (t_min_rho - t_max_rho)) ** rho\n",
    "        next_t = jnp.clip(next_t, t_min, t_max)\n",
    "\n",
    "        rng, normal_rng = jax.random.split(rng, 2)\n",
    "        x = x0 + jax.random.normal(normal_rng, input_shape) * jnp.sqrt(next_t**2 - t_min**2)\n",
    "    \n",
    "    return x"
   ]
  },
  {
   "cell_type": "code",
   "execution_count": 12,
   "metadata": {},
   "outputs": [],
   "source": [
    "def get_fid(rng, sampling_fn, p, begin=(0,), end=(17, ), sample_dir=\".\"):\n",
    "    total_size = 50000\n",
    "    batch_size = sampling_batch_num\n",
    "    current_sampling_num = 0\n",
    "\n",
    "    ts = begin + (p,) + end\n",
    "\n",
    "    if multisampling_fid_dict.get(ts, None) is not None:\n",
    "        return multisampling_fid_dict[ts]\n",
    "\n",
    "    tmp_dir = os.path.join(sample_dir, f\"{p}\")\n",
    "    if not os.path.exists(tmp_dir):\n",
    "        os.mkdir(tmp_dir)\n",
    "\n",
    "    filelist = os.listdir(tmp_dir)\n",
    "    \n",
    "    if len(filelist) == total_size:\n",
    "        fid = fid_utils.calculate_fid(tmp_dir)\n",
    "        multisampling_fid_dict[ts] = fid\n",
    "        return fid\n",
    "\n",
    "    while current_sampling_num < total_size:\n",
    "        effective_sampling = batch_size \\\n",
    "            if (total_size - current_sampling_num) // batch_size != 0 \\\n",
    "            else total_size - current_sampling_num\n",
    "\n",
    "        rng, sampling_rng = jax.random.split(rng, 2)\n",
    "        x0 = sampling_fn(rng=sampling_rng, num_sampling=effective_sampling, ts=ts)\n",
    "        x0 = x0.reshape(-1, *x0.shape[-3:])\n",
    "        fs_utils.save_images_to_dir(x0, tmp_dir, current_sampling_num)\n",
    "        current_sampling_num += effective_sampling\n",
    "    \n",
    "    fid = fid_utils.calculate_fid(tmp_dir)\n",
    "    multisampling_fid_dict[ts] = fid\n",
    "    return fid"
   ]
  },
  {
   "cell_type": "code",
   "execution_count": 13,
   "metadata": {},
   "outputs": [],
   "source": [
    "def ternery_search(rng, sampling_fn, fid_obj, before, after, sample_dir=\".\"):\n",
    "    right = after[0]\n",
    "    left = before[-1]\n",
    "    while right - left >= 3:\n",
    "        m1 = int(left + (right - left) / 3.0)\n",
    "        m2 = int(right - (right - left) / 3.0)\n",
    "\n",
    "        f1 = get_fid(rng, sampling_fn, m1, before, after, sample_dir=sample_dir)\n",
    "\n",
    "        # logger.log(f\"fid at m1 = {m1} is {f1}, IS is {is1}\")\n",
    "        print(f\"fid at m1 = {m1} is {f1}\")\n",
    "        f2 = get_fid(rng, sampling_fn, m2, before, after, sample_dir=sample_dir)\n",
    "\n",
    "        print(f\"fid at m2 = {m2} is {f2}\")\n",
    "\n",
    "        if f1 < f2:\n",
    "            right = m2\n",
    "        else:\n",
    "            left = m1\n",
    "\n",
    "        print(f\"new interval is [{left}, {right}]\")\n",
    "\n",
    "    if right == left:\n",
    "        p = right\n",
    "    elif right - left == 1:\n",
    "        f1 = get_fid(rng, sampling_fn, left, before, after, sample_dir=sample_dir)\n",
    "        f2 = get_fid(rng, sampling_fn, right, before, after, sample_dir=sample_dir)\n",
    "        p = m1 if f1 < f2 else m2\n",
    "    elif right - left == 2:\n",
    "        mid = left + 1\n",
    "        f1 = get_fid(rng, sampling_fn, left, before, after, sample_dir=sample_dir)\n",
    "        f2 = get_fid(rng, sampling_fn, right, before, after, sample_dir=sample_dir)\n",
    "        fmid = get_fid(rng, sampling_fn, mid, before, after, sample_dir=sample_dir)\n",
    "\n",
    "        print(f\"fmid at mid = {mid} is {fmid}\")\n",
    "\n",
    "        if fmid < f1 and fmid < f2:\n",
    "            p = mid\n",
    "        elif f1 < f2:\n",
    "            p = m1\n",
    "        else:\n",
    "            p = m2\n",
    "\n",
    "    return p"
   ]
  },
  {
   "cell_type": "code",
   "execution_count": 14,
   "metadata": {},
   "outputs": [],
   "source": [
    "steps = 18\n",
    "begin = (0,)\n",
    "end = (steps - 1,)"
   ]
  },
  {
   "cell_type": "code",
   "execution_count": 15,
   "metadata": {},
   "outputs": [
    {
     "name": "stdout",
     "output_type": "stream",
     "text": [
      "Loading cifar10 statistics\n"
     ]
    },
    {
     "name": "stderr",
     "output_type": "stream",
     "text": [
      "100%|██████████| 50000/50000 [01:43<00:00, 484.42it/s]\n",
      "100%|██████████| 1000/1000 [02:21<00:00,  7.09it/s]\n"
     ]
    },
    {
     "name": "stdout",
     "output_type": "stream",
     "text": [
      "fid at m1 = 5 is 26.628729914619782\n",
      "Loading cifar10 statistics\n"
     ]
    },
    {
     "name": "stderr",
     "output_type": "stream",
     "text": [
      "100%|██████████| 50000/50000 [01:42<00:00, 486.77it/s]\n",
      "100%|██████████| 1000/1000 [02:18<00:00,  7.20it/s]\n"
     ]
    },
    {
     "name": "stdout",
     "output_type": "stream",
     "text": [
      "fid at m2 = 11 is 25.03028232655697\n",
      "new interval is [5, 17]\n",
      "Loading cifar10 statistics\n"
     ]
    },
    {
     "name": "stderr",
     "output_type": "stream",
     "text": [
      "100%|██████████| 50000/50000 [01:43<00:00, 484.68it/s]\n",
      "100%|██████████| 1000/1000 [02:24<00:00,  6.93it/s]\n"
     ]
    },
    {
     "name": "stdout",
     "output_type": "stream",
     "text": [
      "fid at m1 = 9 is 27.916672329356174\n",
      "Loading cifar10 statistics\n"
     ]
    },
    {
     "name": "stderr",
     "output_type": "stream",
     "text": [
      "100%|██████████| 50000/50000 [01:42<00:00, 485.50it/s]\n",
      "100%|██████████| 1000/1000 [02:21<00:00,  7.08it/s]\n"
     ]
    },
    {
     "name": "stdout",
     "output_type": "stream",
     "text": [
      "fid at m2 = 13 is 25.78110128157232\n",
      "new interval is [9, 17]\n",
      "Loading cifar10 statistics\n"
     ]
    },
    {
     "name": "stderr",
     "output_type": "stream",
     "text": [
      "100%|██████████| 50000/50000 [01:41<00:00, 493.28it/s]\n",
      "100%|██████████| 1000/1000 [02:18<00:00,  7.21it/s]\n"
     ]
    },
    {
     "name": "stdout",
     "output_type": "stream",
     "text": [
      "fid at m1 = 11 is 25.03028232655697\n",
      "Loading cifar10 statistics\n"
     ]
    },
    {
     "name": "stderr",
     "output_type": "stream",
     "text": [
      "100%|██████████| 50000/50000 [01:42<00:00, 487.89it/s]\n",
      "100%|██████████| 1000/1000 [02:19<00:00,  7.16it/s]\n"
     ]
    },
    {
     "name": "stdout",
     "output_type": "stream",
     "text": [
      "fid at m2 = 14 is 25.975722885808466\n",
      "new interval is [9, 14]\n",
      "Loading cifar10 statistics\n"
     ]
    },
    {
     "name": "stderr",
     "output_type": "stream",
     "text": [
      "100%|██████████| 50000/50000 [01:42<00:00, 486.79it/s]\n",
      "100%|██████████| 1000/1000 [02:20<00:00,  7.11it/s]\n"
     ]
    },
    {
     "name": "stdout",
     "output_type": "stream",
     "text": [
      "fid at m1 = 10 is 26.308213812628082\n",
      "Loading cifar10 statistics\n"
     ]
    },
    {
     "name": "stderr",
     "output_type": "stream",
     "text": [
      "100%|██████████| 50000/50000 [01:42<00:00, 488.12it/s]\n",
      "100%|██████████| 1000/1000 [02:17<00:00,  7.30it/s]\n"
     ]
    },
    {
     "name": "stdout",
     "output_type": "stream",
     "text": [
      "fid at m2 = 12 is 24.775052015719893\n",
      "new interval is [10, 14]\n",
      "Loading cifar10 statistics\n"
     ]
    },
    {
     "name": "stderr",
     "output_type": "stream",
     "text": [
      "100%|██████████| 50000/50000 [01:41<00:00, 492.61it/s]\n",
      "100%|██████████| 1000/1000 [02:18<00:00,  7.20it/s]\n"
     ]
    },
    {
     "name": "stdout",
     "output_type": "stream",
     "text": [
      "fid at m1 = 11 is 25.03028232655697\n",
      "Loading cifar10 statistics\n"
     ]
    },
    {
     "name": "stderr",
     "output_type": "stream",
     "text": [
      "100%|██████████| 50000/50000 [01:41<00:00, 493.31it/s]\n",
      "100%|██████████| 1000/1000 [02:18<00:00,  7.20it/s]\n"
     ]
    },
    {
     "name": "stdout",
     "output_type": "stream",
     "text": [
      "fid at m2 = 12 is 24.775052015719893\n",
      "new interval is [11, 14]\n",
      "Loading cifar10 statistics\n"
     ]
    },
    {
     "name": "stderr",
     "output_type": "stream",
     "text": [
      "100%|██████████| 50000/50000 [01:41<00:00, 493.69it/s]\n",
      "100%|██████████| 1000/1000 [02:19<00:00,  7.19it/s]\n"
     ]
    },
    {
     "name": "stdout",
     "output_type": "stream",
     "text": [
      "fid at m1 = 12 is 24.775052015719893\n",
      "Loading cifar10 statistics\n"
     ]
    },
    {
     "name": "stderr",
     "output_type": "stream",
     "text": [
      "100%|██████████| 50000/50000 [01:41<00:00, 491.04it/s]\n",
      "100%|██████████| 1000/1000 [02:18<00:00,  7.21it/s]\n"
     ]
    },
    {
     "name": "stdout",
     "output_type": "stream",
     "text": [
      "fid at m2 = 13 is 25.78110128157232\n",
      "new interval is [11, 13]\n",
      "Loading cifar10 statistics\n"
     ]
    },
    {
     "name": "stderr",
     "output_type": "stream",
     "text": [
      "100%|██████████| 50000/50000 [01:41<00:00, 491.48it/s]\n",
      "100%|██████████| 1000/1000 [02:18<00:00,  7.21it/s]\n"
     ]
    },
    {
     "name": "stdout",
     "output_type": "stream",
     "text": [
      "Loading cifar10 statistics\n"
     ]
    },
    {
     "name": "stderr",
     "output_type": "stream",
     "text": [
      "100%|██████████| 50000/50000 [01:41<00:00, 493.05it/s]\n",
      "100%|██████████| 1000/1000 [02:19<00:00,  7.18it/s]\n"
     ]
    },
    {
     "name": "stdout",
     "output_type": "stream",
     "text": [
      "Loading cifar10 statistics\n"
     ]
    },
    {
     "name": "stderr",
     "output_type": "stream",
     "text": [
      "100%|██████████| 50000/50000 [01:41<00:00, 490.58it/s]\n",
      "100%|██████████| 1000/1000 [02:19<00:00,  7.15it/s]\n"
     ]
    },
    {
     "name": "stdout",
     "output_type": "stream",
     "text": [
      "fmid at mid = 12 is 24.775052015719893\n"
     ]
    },
    {
     "data": {
      "text/plain": [
       "12"
      ]
     },
     "execution_count": 15,
     "metadata": {},
     "output_type": "execute_result"
    }
   ],
   "source": [
    "sampler = partial(stochastic_iterative_sampler, # need rng, num_sampling, ts\n",
    "    distiller=consistency_framework,\n",
    "    t_min=sigma_min,\n",
    "    t_max=sigma_max,\n",
    "    rho=rho,\n",
    "    steps=steps)\n",
    "rng, cm_multistep_sampling = jax.random.split(rng, 2)\n",
    "\n",
    "ternery_search(cm_multistep_sampling, sampler, fid_utils, begin, end, cm_multistep)"
   ]
  },
  {
   "cell_type": "code",
   "execution_count": null,
   "metadata": {},
   "outputs": [],
   "source": []
  }
 ],
 "metadata": {
  "kernelspec": {
   "display_name": "venv",
   "language": "python",
   "name": "python3"
  },
  "language_info": {
   "codemirror_mode": {
    "name": "ipython",
    "version": 3
   },
   "file_extension": ".py",
   "mimetype": "text/x-python",
   "name": "python",
   "nbconvert_exporter": "python",
   "pygments_lexer": "ipython3",
   "version": "3.9.18"
  }
 },
 "nbformat": 4,
 "nbformat_minor": 2
}
