{
 "cells": [
  {
   "cell_type": "code",
   "execution_count": 1,
   "metadata": {},
   "outputs": [
    {
     "name": "stderr",
     "output_type": "stream",
     "text": [
      "2023-03-16 11:31:20.905380: W tensorflow/stream_executor/platform/default/dso_loader.cc:64] Could not load dynamic library 'libcudart.so.11.0'; dlerror: libcudart.so.11.0: cannot open shared object file: No such file or directory; LD_LIBRARY_PATH: :/usr/local/lib\n",
      "/home/djfelrl11/.local/lib/python3.8/site-packages/tqdm/auto.py:22: TqdmWarning: IProgress not found. Please update jupyter and ipywidgets. See https://ipywidgets.readthedocs.io/en/stable/user_install.html\n",
      "  from .autonotebook import tqdm as notebook_tqdm\n"
     ]
    }
   ],
   "source": [
    "import sys\n",
    "sys.path.append(\"..\")\n",
    "\n",
    "\n",
    "import utils.common_utils as common_utils\n",
    "from utils.augment_utils import AugmentPipe\n",
    "\n",
    "import matplotlib.pyplot as plt\n",
    "import os \n",
    "import numpy as np\n",
    "import jax\n",
    "import jax.numpy as jnp\n"
   ]
  },
  {
   "cell_type": "code",
   "execution_count": 2,
   "metadata": {},
   "outputs": [
    {
     "name": "stderr",
     "output_type": "stream",
     "text": [
      "2023-03-16 11:31:25.818226: W tensorflow/stream_executor/platform/default/dso_loader.cc:64] Could not load dynamic library 'libcuda.so.1'; dlerror: libcuda.so.1: cannot open shared object file: No such file or directory; LD_LIBRARY_PATH: :/usr/local/lib\n",
      "2023-03-16 11:31:25.818262: W tensorflow/stream_executor/cuda/cuda_driver.cc:269] failed call to cuInit: UNKNOWN ERROR (303)\n"
     ]
    }
   ],
   "source": [
    "datasets = common_utils.load_dataset_from_tfds(pmap=True)\n",
    "augment_rng = jax.random.PRNGKey(0)\n",
    "augment_rate = 0.12\n",
    "pipeline = AugmentPipe(\n",
    "augment_rng, p=augment_rate, xflip=1e8, \n",
    "yflip=1, scale=1, rotate_frac=1, \n",
    "aniso=1, translate_frac=1)"
   ]
  },
  {
   "cell_type": "code",
   "execution_count": 3,
   "metadata": {},
   "outputs": [],
   "source": [
    "def tmp_save_comparison(images, steps, savepath):\n",
    "  # Make in process dir first\n",
    "  # self.verify_and_create_dir(savepath)\n",
    "  savepath=\".\"\n",
    "\n",
    "  images = common_utils.unnormalize_minus_one_to_one(images)\n",
    "  n_images = len(images)\n",
    "  f, axes = plt.subplots(n_images // 4, 4)\n",
    "  images = np.clip(images, 0, 1)\n",
    "  axes = np.concatenate(axes)\n",
    "\n",
    "  for img, axis in zip(images, axes):\n",
    "      axis.imshow(img)\n",
    "      axis.axis('off')\n",
    "  \n",
    "  # save_filename = os.path.join(savepath, f\"{steps}.png\")\n",
    "  # f.savefig(save_filename)\n",
    "  # plt.close()\n",
    "  return f"
   ]
  },
  {
   "cell_type": "code",
   "execution_count": 4,
   "metadata": {},
   "outputs": [
    {
     "ename": "TypeError",
     "evalue": "mul got incompatible shapes for broadcasting: (128, 1, 76, 76), (128, 76, 76, 3).",
     "output_type": "error",
     "traceback": [
      "\u001b[0;31m---------------------------------------------------------------------------\u001b[0m",
      "\u001b[0;31mTypeError\u001b[0m                                 Traceback (most recent call last)",
      "Cell \u001b[0;32mIn[4], line 4\u001b[0m\n\u001b[1;32m      1\u001b[0m idx \u001b[39m=\u001b[39m \u001b[39m0\u001b[39m\n\u001b[1;32m      2\u001b[0m x, _ \u001b[39m=\u001b[39m \u001b[39mnext\u001b[39m(datasets)\n\u001b[0;32m----> 4\u001b[0m result_images, labels \u001b[39m=\u001b[39m pipeline(x)\n\u001b[1;32m      5\u001b[0m result_images \u001b[39m=\u001b[39m result_images[\u001b[39m0\u001b[39m, :\u001b[39m8\u001b[39m]\n\u001b[1;32m      6\u001b[0m x \u001b[39m=\u001b[39m x[\u001b[39m0\u001b[39m, :\u001b[39m8\u001b[39m]\n",
      "File \u001b[0;32m~/ddpm_practice/test/../utils/augment_utils.py:397\u001b[0m, in \u001b[0;36mAugmentPipe.__call__\u001b[0;34m(self, images)\u001b[0m\n\u001b[1;32m    395\u001b[0m G_inv \u001b[39m=\u001b[39m scale2d(\u001b[39m2\u001b[39m \u001b[39m/\u001b[39m images\u001b[39m.\u001b[39mshape[\u001b[39m3\u001b[39m], \u001b[39m2\u001b[39m \u001b[39m/\u001b[39m images\u001b[39m.\u001b[39mshape[\u001b[39m2\u001b[39m]) \u001b[39m@\u001b[39m G_inv \u001b[39m@\u001b[39m scale2d_inv(\u001b[39m2\u001b[39m \u001b[39m/\u001b[39m shape[\u001b[39m3\u001b[39m], \u001b[39m2\u001b[39m \u001b[39m/\u001b[39m shape[\u001b[39m2\u001b[39m])\n\u001b[1;32m    396\u001b[0m grid \u001b[39m=\u001b[39m \u001b[39mself\u001b[39m\u001b[39m.\u001b[39maffine_grid(theta\u001b[39m=\u001b[39mG_inv[:,:\u001b[39m2\u001b[39m,:], shape\u001b[39m=\u001b[39mshape)\n\u001b[0;32m--> 397\u001b[0m images \u001b[39m=\u001b[39m \u001b[39mself\u001b[39;49m\u001b[39m.\u001b[39;49mgrid_sampler(images, grid)\n\u001b[1;32m    398\u001b[0m \u001b[39m# theta = torch.tensor(np.array(G_inv[:,:2,:]))\u001b[39;00m\n\u001b[1;32m    399\u001b[0m \u001b[39m# images = torch.tensor(np.array(images))\u001b[39;00m\n\u001b[1;32m    400\u001b[0m \u001b[39m# grid = F.affine_grid(theta=theta, size=shape, align_corners=False)\u001b[39;00m\n\u001b[0;32m   (...)\u001b[0m\n\u001b[1;32m    404\u001b[0m \n\u001b[1;32m    405\u001b[0m \u001b[39m# Downsample and crop.\u001b[39;00m\n\u001b[1;32m    406\u001b[0m conv_weight \u001b[39m=\u001b[39m jnp\u001b[39m.\u001b[39mtile(constant(Hz[\u001b[39mNone\u001b[39;00m, \u001b[39mNone\u001b[39;00m, :]), [images\u001b[39m.\u001b[39mshape[\u001b[39m1\u001b[39m], \u001b[39m1\u001b[39m, \u001b[39m1\u001b[39m])\n",
      "File \u001b[0;32m~/ddpm_practice/test/../utils/augment_utils.py:244\u001b[0m, in \u001b[0;36mAugmentPipe.grid_sampler\u001b[0;34m(self, image, grid)\u001b[0m\n\u001b[1;32m    241\u001b[0m wc \u001b[39m=\u001b[39m jnp\u001b[39m.\u001b[39mexpand_dims((x \u001b[39m-\u001b[39m x0) \u001b[39m*\u001b[39m (y1 \u001b[39m-\u001b[39m y), axis\u001b[39m=\u001b[39m\u001b[39m1\u001b[39m)\n\u001b[1;32m    242\u001b[0m wd \u001b[39m=\u001b[39m jnp\u001b[39m.\u001b[39mexpand_dims((x \u001b[39m-\u001b[39m x0) \u001b[39m*\u001b[39m (y \u001b[39m-\u001b[39m y0), axis\u001b[39m=\u001b[39m\u001b[39m1\u001b[39m)\n\u001b[0;32m--> 244\u001b[0m out \u001b[39m=\u001b[39m wa \u001b[39m*\u001b[39;49m la \u001b[39m+\u001b[39m wb \u001b[39m*\u001b[39m lb \u001b[39m+\u001b[39m wc \u001b[39m*\u001b[39m lc \u001b[39m+\u001b[39m wd \u001b[39m*\u001b[39m ld\n\u001b[1;32m    245\u001b[0m \u001b[39mreturn\u001b[39;00m out\n",
      "File \u001b[0;32m~/.local/lib/python3.8/site-packages/jax/_src/numpy/lax_numpy.py:5071\u001b[0m, in \u001b[0;36m_defer_to_unrecognized_arg.<locals>.deferring_binary_op\u001b[0;34m(self, other)\u001b[0m\n\u001b[1;32m   5069\u001b[0m args \u001b[39m=\u001b[39m (other, \u001b[39mself\u001b[39m) \u001b[39mif\u001b[39;00m swap \u001b[39melse\u001b[39;00m (\u001b[39mself\u001b[39m, other)\n\u001b[1;32m   5070\u001b[0m \u001b[39mif\u001b[39;00m \u001b[39misinstance\u001b[39m(other, _accepted_binop_types):\n\u001b[0;32m-> 5071\u001b[0m   \u001b[39mreturn\u001b[39;00m binary_op(\u001b[39m*\u001b[39;49margs)\n\u001b[1;32m   5072\u001b[0m \u001b[39mif\u001b[39;00m \u001b[39misinstance\u001b[39m(other, _rejected_binop_types):\n\u001b[1;32m   5073\u001b[0m   \u001b[39mraise\u001b[39;00m \u001b[39mTypeError\u001b[39;00m(\u001b[39mf\u001b[39m\u001b[39m\"\u001b[39m\u001b[39munsupported operand type(s) for \u001b[39m\u001b[39m{\u001b[39;00mopchar\u001b[39m}\u001b[39;00m\u001b[39m: \u001b[39m\u001b[39m\"\u001b[39m\n\u001b[1;32m   5074\u001b[0m                   \u001b[39mf\u001b[39m\u001b[39m\"\u001b[39m\u001b[39m{\u001b[39;00m\u001b[39mtype\u001b[39m(args[\u001b[39m0\u001b[39m])\u001b[39m.\u001b[39m\u001b[39m__name__\u001b[39m\u001b[39m!r}\u001b[39;00m\u001b[39m and \u001b[39m\u001b[39m{\u001b[39;00m\u001b[39mtype\u001b[39m(args[\u001b[39m1\u001b[39m])\u001b[39m.\u001b[39m\u001b[39m__name__\u001b[39m\u001b[39m!r}\u001b[39;00m\u001b[39m\"\u001b[39m)\n",
      "    \u001b[0;31m[... skipping hidden 11 frame]\u001b[0m\n",
      "File \u001b[0;32m~/.local/lib/python3.8/site-packages/jax/_src/numpy/ufuncs.py:98\u001b[0m, in \u001b[0;36m_maybe_bool_binop.<locals>.fn\u001b[0;34m(x1, x2)\u001b[0m\n\u001b[1;32m     96\u001b[0m \u001b[39mdef\u001b[39;00m \u001b[39mfn\u001b[39m(x1, x2, \u001b[39m/\u001b[39m):\n\u001b[1;32m     97\u001b[0m   x1, x2 \u001b[39m=\u001b[39m _promote_args(numpy_fn\u001b[39m.\u001b[39m\u001b[39m__name__\u001b[39m, x1, x2)\n\u001b[0;32m---> 98\u001b[0m   \u001b[39mreturn\u001b[39;00m lax_fn(x1, x2) \u001b[39mif\u001b[39;00m x1\u001b[39m.\u001b[39mdtype \u001b[39m!=\u001b[39m np\u001b[39m.\u001b[39mbool_ \u001b[39melse\u001b[39;00m bool_lax_fn(x1, x2)\n",
      "    \u001b[0;31m[... skipping hidden 7 frame]\u001b[0m\n",
      "File \u001b[0;32m~/.local/lib/python3.8/site-packages/jax/_src/lax/lax.py:1596\u001b[0m, in \u001b[0;36mbroadcasting_shape_rule\u001b[0;34m(name, *avals)\u001b[0m\n\u001b[1;32m   1594\u001b[0m       result_shape\u001b[39m.\u001b[39mappend(non_1s[\u001b[39m0\u001b[39m])\n\u001b[1;32m   1595\u001b[0m     \u001b[39melse\u001b[39;00m:\n\u001b[0;32m-> 1596\u001b[0m       \u001b[39mraise\u001b[39;00m \u001b[39mTypeError\u001b[39;00m(\u001b[39mf\u001b[39m\u001b[39m'\u001b[39m\u001b[39m{\u001b[39;00mname\u001b[39m}\u001b[39;00m\u001b[39m got incompatible shapes for broadcasting: \u001b[39m\u001b[39m'\u001b[39m\n\u001b[1;32m   1597\u001b[0m                       \u001b[39mf\u001b[39m\u001b[39m'\u001b[39m\u001b[39m{\u001b[39;00m\u001b[39m\"\u001b[39m\u001b[39m, \u001b[39m\u001b[39m\"\u001b[39m\u001b[39m.\u001b[39mjoin(\u001b[39mmap\u001b[39m(\u001b[39mstr\u001b[39m, \u001b[39mmap\u001b[39m(\u001b[39mtuple\u001b[39m, shapes)))\u001b[39m}\u001b[39;00m\u001b[39m.\u001b[39m\u001b[39m'\u001b[39m)\n\u001b[1;32m   1599\u001b[0m \u001b[39mreturn\u001b[39;00m \u001b[39mtuple\u001b[39m(result_shape)\n",
      "\u001b[0;31mTypeError\u001b[0m: mul got incompatible shapes for broadcasting: (128, 1, 76, 76), (128, 76, 76, 3)."
     ]
    }
   ],
   "source": [
    "idx = 0\n",
    "x, _ = next(datasets)\n",
    "\n",
    "result_images, labels = pipeline(x)\n",
    "result_images = result_images[0, :8]\n",
    "x = x[0, :8]\n",
    "xset = jnp.concatenate([result_images[:8], x], axis=0)\n",
    "f = tmp_save_comparison(xset, idx, \".\")\n",
    "f"
   ]
  },
  {
   "cell_type": "code",
   "execution_count": null,
   "metadata": {},
   "outputs": [],
   "source": []
  }
 ],
 "metadata": {
  "kernelspec": {
   "display_name": "Python 3",
   "language": "python",
   "name": "python3"
  },
  "language_info": {
   "codemirror_mode": {
    "name": "ipython",
    "version": 3
   },
   "file_extension": ".py",
   "mimetype": "text/x-python",
   "name": "python",
   "nbconvert_exporter": "python",
   "pygments_lexer": "ipython3",
   "version": "3.8.10"
  },
  "orig_nbformat": 4
 },
 "nbformat": 4,
 "nbformat_minor": 2
}
