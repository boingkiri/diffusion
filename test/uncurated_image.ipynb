{
 "cells": [
  {
   "cell_type": "code",
   "execution_count": 2,
   "metadata": {},
   "outputs": [],
   "source": [
    "\n",
    "import os\n",
    "import numpy as np\n",
    "import matplotlib.pyplot as plt\n",
    "\n",
    "\n"
   ]
  },
  {
   "cell_type": "code",
   "execution_count": 3,
   "metadata": {},
   "outputs": [],
   "source": [
    "\n",
    "def load_images_from_folder(folder):\n",
    "    images = []\n",
    "    for filename in os.listdir(folder):\n",
    "        img = plt.imread(os.path.join(folder, filename))\n",
    "        if img is not None:\n",
    "            images.append(img)\n",
    "    return images\n",
    "\n",
    "def create_image_grid(images, grid_size):\n",
    "    grid = np.zeros((32 * grid_size[0], 32 * grid_size[1], 3), dtype=np.uint8)\n",
    "    \n",
    "    for i in range(grid_size[0]):\n",
    "        for j in range(grid_size[1]):\n",
    "            grid[i*32:(i+1)*32, j*32:(j+1)*32, :] = (images[i * grid_size[1] + j] * 255).astype(np.uint8)\n",
    "    \n",
    "    return grid\n",
    "\n",
    "def save_image_grid(grid, output_path):\n",
    "    # Convert the grid to uint8 and save using NumPy's imsave\n",
    "    grid_uint8 = grid.astype(np.uint8)\n",
    "    plt.imsave(output_path, grid_uint8)\n",
    "\n",
    "def generate_and_save_grid(input_path, output_path, grid_size):\n",
    "    images = load_images_from_folder(input_path)\n",
    "    image_grid = create_image_grid(images, grid_size)\n",
    "    save_image_grid(image_grid, output_path)"
   ]
  },
  {
   "cell_type": "code",
   "execution_count": 6,
   "metadata": {},
   "outputs": [],
   "source": [
    "input_default_path = \"../experiments\"\n",
    "experiments_name = \"0112_iCT_512_lambda_0.3\"\n",
    "input_path = os.path.join(input_default_path, experiments_name)\n",
    "input_path = os.path.join(input_path, \"sampling\")\n",
    "output_path = \"./grid.png\"\n",
    "\n",
    "grid_size = (40, 20)\n",
    "generate_and_save_grid(input_path, output_path, grid_size)"
   ]
  },
  {
   "cell_type": "code",
   "execution_count": null,
   "metadata": {},
   "outputs": [],
   "source": []
  }
 ],
 "metadata": {
  "kernelspec": {
   "display_name": "venv",
   "language": "python",
   "name": "python3"
  },
  "language_info": {
   "codemirror_mode": {
    "name": "ipython",
    "version": 3
   },
   "file_extension": ".py",
   "mimetype": "text/x-python",
   "name": "python",
   "nbconvert_exporter": "python",
   "pygments_lexer": "ipython3",
   "version": "3.10.12"
  }
 },
 "nbformat": 4,
 "nbformat_minor": 2
}
