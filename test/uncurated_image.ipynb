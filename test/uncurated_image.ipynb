{
 "cells": [
  {
   "cell_type": "code",
   "execution_count": 13,
   "metadata": {},
   "outputs": [],
   "source": [
    "\n",
    "import os\n",
    "import numpy as np\n",
    "import matplotlib.pyplot as plt\n",
    "\n",
    "\n"
   ]
  },
  {
   "cell_type": "code",
   "execution_count": 14,
   "metadata": {},
   "outputs": [],
   "source": [
    "\n",
    "# def load_images_from_folder(folder):\n",
    "#     images = []\n",
    "#     for filename in os.listdir(folder):\n",
    "#         img = plt.imread(os.path.join(folder, filename))\n",
    "#         if img is not None:\n",
    "#             images.append(img)\n",
    "#     return images\n",
    "\n",
    "# def create_image_grid(images, grid_size):\n",
    "#     grid = np.zeros((32 * grid_size[0], 32 * grid_size[1], 3), dtype=np.uint8)\n",
    "    \n",
    "#     for i in range(grid_size[0]):\n",
    "#         for j in range(grid_size[1]):\n",
    "#             grid[i*32:(i+1)*32, j*32:(j+1)*32, :] = (images[i * grid_size[1] + j] * 255).astype(np.uint8)\n",
    "    \n",
    "#     return grid\n",
    "\n",
    "# def save_image_grid(grid, output_path):\n",
    "#     # Convert the grid to uint8 and save using NumPy's imsave\n",
    "#     grid_uint8 = grid.astype(np.uint8)\n",
    "#     plt.imsave(output_path, grid_uint8)\n",
    "\n",
    "# def generate_and_save_grid(input_path, output_path, grid_size):\n",
    "#     images = load_images_from_folder(input_path)\n",
    "#     image_grid = create_image_grid(images, grid_size)\n",
    "#     save_image_grid(image_grid, output_path)"
   ]
  },
  {
   "cell_type": "code",
   "execution_count": 19,
   "metadata": {},
   "outputs": [],
   "source": [
    "def load_images_from_folder(folder):\n",
    "    images = []\n",
    "    for filename in os.listdir(folder):\n",
    "        img = plt.imread(os.path.join(folder, filename))\n",
    "        if img is not None:\n",
    "            images.append(img)\n",
    "    return images\n",
    "\n",
    "def create_image_grid(images, grid_size, padding=1):\n",
    "    image_size = images[0].shape[0]\n",
    "    grid = np.zeros((image_size * grid_size[0] + padding * (grid_size[0] - 1),\n",
    "                     image_size * grid_size[1] + padding * (grid_size[1] - 1), 3), dtype=np.uint8)\n",
    "    \n",
    "    print(grid_size)\n",
    "    for i in range(grid_size[0]):\n",
    "        for j in range(grid_size[1]):\n",
    "            if i * grid_size[1] + j < len(images):\n",
    "                grid[i*(image_size+padding):i*(image_size+padding)+image_size, \n",
    "                     j*(image_size+padding):j*(image_size+padding)+image_size, :] = (images[i * grid_size[1] + j] * 255).astype(np.uint8)\n",
    "    \n",
    "    return grid\n",
    "\n",
    "def save_image_grid(grid, output_path):\n",
    "    plt.imsave(output_path, grid)\n",
    "\n",
    "def generate_and_save_grid(input_path, output_path, grid_size, padding=1):\n",
    "    images = load_images_from_folder(input_path)\n",
    "    image_grid = create_image_grid(images, grid_size, padding)\n",
    "    save_image_grid(image_grid, output_path)"
   ]
  },
  {
   "cell_type": "code",
   "execution_count": null,
   "metadata": {},
   "outputs": [
    {
     "name": "stdout",
     "output_type": "stream",
     "text": [
      "(5, 5)\n"
     ]
    }
   ],
   "source": [
    "# input_default_path = \"../experiments\"\n",
    "# experiments_name = \"0112_iCT_512_lambda_0.3\"\n",
    "# input_path = os.path.join(input_default_path, experiments_name)\n",
    "# input_path = os.path.join(input_path, \"sampling\")\n",
    "input_path = \"/home/djfelrl11/diffusion/tmp/1024_20/cm_onestep\"\n",
    "output_path = \"./one_step.png\"\n",
    "# input_path = \"/home/djfelrl11/diffusion/tmp/1024_20/cm_multistep/0.661\"\n",
    "# output_path = \"./multi_step.png\"\n",
    "\n",
    "grid_size = (5, 5)\n",
    "generate_and_save_grid(input_path, output_path, grid_size)"
   ]
  },
  {
   "cell_type": "code",
   "execution_count": null,
   "metadata": {},
   "outputs": [],
   "source": []
  }
 ],
 "metadata": {
  "kernelspec": {
   "display_name": "venv",
   "language": "python",
   "name": "python3"
  },
  "language_info": {
   "codemirror_mode": {
    "name": "ipython",
    "version": 3
   },
   "file_extension": ".py",
   "mimetype": "text/x-python",
   "name": "python",
   "nbconvert_exporter": "python",
   "pygments_lexer": "ipython3",
   "version": "3.10.13"
  }
 },
 "nbformat": 4,
 "nbformat_minor": 2
}
