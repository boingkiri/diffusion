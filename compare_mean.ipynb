{
 "cells": [
  {
   "cell_type": "code",
   "execution_count": 1,
   "metadata": {},
   "outputs": [
    {
     "name": "stderr",
     "output_type": "stream",
     "text": [
      "2023-11-24 01:37:26.321468: W tensorflow/compiler/tf2tensorrt/utils/py_utils.cc:38] TF-TRT Warning: Could not find TensorRT\n",
      "/home/djfelrl11/diffusion/venv/lib/python3.8/site-packages/tqdm/auto.py:21: TqdmWarning: IProgress not found. Please update jupyter and ipywidgets. See https://ipywidgets.readthedocs.io/en/stable/user_install.html\n",
      "  from .autonotebook import tqdm as notebook_tqdm\n"
     ]
    }
   ],
   "source": [
    "import jax\n",
    "import jax.numpy as jnp\n",
    "import matplotlib.pyplot as plt\n",
    "import yaml\n",
    "import omegaconf\n",
    "import hydra\n",
    "from hydra import initialize, compose\n",
    "\n",
    "from framework.unifying_framework import UnifyingFramework\n",
    "from framework.diffusion.consistency_framework import CMFramework\n",
    "from framework.diffusion.edm_framework import EDMFramework\n",
    "\n",
    "from utils import common_utils\n",
    "from utils.fid_utils import FIDUtils\n",
    "from utils.fs_utils import FSUtils\n",
    "\n",
    "from tqdm import tqdm"
   ]
  },
  {
   "cell_type": "code",
   "execution_count": 2,
   "metadata": {},
   "outputs": [
    {
     "name": "stderr",
     "output_type": "stream",
     "text": [
      "/home/djfelrl11/diffusion/venv/lib/python3.8/site-packages/hydra/_internal/defaults_list.py:251: UserWarning: In 'config_denoiser': Defaults list is missing `_self_`. See https://hydra.cc/docs/1.2/upgrades/1.0_to_1.1/default_composition_order for more information\n",
      "  warnings.warn(msg, UserWarning)\n",
      "/home/djfelrl11/diffusion/venv/lib/python3.8/site-packages/hydra/_internal/defaults_list.py:251: UserWarning: In 'config_consistency': Defaults list is missing `_self_`. See https://hydra.cc/docs/1.2/upgrades/1.0_to_1.1/default_composition_order for more information\n",
      "  warnings.warn(msg, UserWarning)\n"
     ]
    }
   ],
   "source": [
    "# default_path = \"/home/djfelrl11/diffusion/configs/config_cm_score.yaml\"\n",
    "config_path = \"configs\"\n",
    "# default_path = \"config_cm_score\"\n",
    "config_denoiser = \"config_denoiser\"\n",
    "config_consistency = \"config_consistency\"\n",
    "# config_path = \"/home/djfelrl11/diffusion/experiments/0906_verification_unet_block_1/config.yaml\"\n",
    "rng = jax.random.PRNGKey(42)\n",
    "\n",
    "with initialize(version_base=None, config_path=config_path):\n",
    "    denoiser_config = compose(config_name=config_denoiser)\n",
    "    consistency_config = compose(config_name=config_consistency)\n",
    "denoiser_config[\"do_training\"] = False\n",
    "consistency_config[\"do_training\"] = False\n",
    "model_type = denoiser_config.type\n",
    "\n",
    "\n",
    "# Load the model\n",
    "# rng, second_rng = jax.random.split(rng)\n",
    "# diffusion_framework = UnifyingFramework(model_type, denoiser_config, second_rng)\n",
    "\n",
    "rng, denoiser_rng = jax.random.split(rng, 2)\n",
    "rng, consistency_rng = jax.random.split(rng, 2)\n",
    "# denoiser_framework = diffusion_framework.framework\n",
    "fid_utils = FIDUtils(denoiser_config)\n",
    "fs_utils = FSUtils(denoiser_config)\n",
    "\n",
    "denoiser_framework = EDMFramework(denoiser_config, denoiser_rng, fs_utils, None)\n",
    "consistency_framework = CMFramework(consistency_config, consistency_rng, fs_utils, None)"
   ]
  },
  {
   "cell_type": "code",
   "execution_count": 3,
   "metadata": {},
   "outputs": [],
   "source": [
    "sigma_max = 80\n",
    "sigma_min = 0.02\n",
    "rho = 7\n",
    "n_timestep = denoiser_config.framework.diffusion.n_timestep\n",
    "sweep_timestep = jnp.arange(n_timestep)\n",
    "\n",
    "t_steps = (sigma_max ** (1 / rho) + sweep_timestep / (n_timestep - 1) * (sigma_min ** (1 / rho) - sigma_max ** (1 / rho))) ** rho"
   ]
  },
  {
   "cell_type": "code",
   "execution_count": 4,
   "metadata": {},
   "outputs": [],
   "source": [
    "num_sample = 8\n",
    "\n",
    "datasets = common_utils.load_dataset_from_tfds(n_jitted_steps=1, x_flip=False, batch_size=num_sample)\n",
    "\n",
    "import os\n",
    "tmp_saving_dir = \"tmp\"\n",
    "if not os.path.exists(tmp_saving_dir):\n",
    "    os.makedirs(tmp_saving_dir)\n",
    "\n",
    "sweep_timestep = range(denoiser_config.framework.diffusion.n_timestep)\n",
    "\n",
    "# for timestep in sweep_timestep:\n",
    "timestep = 2 # TMP\n",
    "rng, sampling_rng = jax.random.split(rng)\n",
    "data = next(datasets)\n",
    "data = data[0][:, 1, ...]\n",
    "\n",
    "noise = jax.random.normal(sampling_rng, shape=data.shape)\n",
    "noise = noise * t_steps[timestep]\n",
    "\n",
    "# sample = denoiser_framework.sampling(num_sample, original_data=data, sweep_timesteps=timestep)\n",
    "# sample = denoiser_framework.sampling_denoiser(num_sample, original_data=data, sweep_timesteps=timestep, noise=noise)\n",
    "sample = consistency_framework.sampling_cm_intermediate(num_sample, original_data=data, sweep_timesteps=timestep, noise=noise)"
   ]
  },
  {
   "cell_type": "code",
   "execution_count": 5,
   "metadata": {},
   "outputs": [
    {
     "data": {
      "image/png": "[encoded data removed]",
      "text/plain": [
       "<Figure size 1000x1000 with 2 Axes>"
      ]
     },
     "metadata": {},
     "output_type": "display_data"
    }
   ],
   "source": [
    "# num_sample_in_\n",
    "def viz_sample(sample, title=\"Sample\"):\n",
    "    sample = sample.reshape((sample.shape[0], 32, 32, 3))\n",
    "    sample = sample[:2]\n",
    "    \n",
    "    sample = (sample + 1) / 2\n",
    "    sample = jnp.clip(sample, 0, 1)\n",
    "\n",
    "    plt.figure(figsize=(10, 10))\n",
    "    plt.suptitle(title)\n",
    "    # for i in range(sample.shape[0]):\n",
    "    #     plt.subplot(4, 4, i + 1)\n",
    "    #     plt.imshow(sample[i])\n",
    "    #     plt.axis(\"off\")\n",
    "    for i in range(sample.shape[0]):\n",
    "        plt.subplot(2, 1, i + 1)\n",
    "        plt.imshow(sample[i])\n",
    "        plt.axis(\"off\")\n",
    "    plt.show()\n",
    "viz_sample(sample)"
   ]
  },
  {
   "cell_type": "markdown",
   "metadata": {},
   "source": []
  },
  {
   "cell_type": "code",
   "execution_count": 7,
   "metadata": {},
   "outputs": [
    {
     "name": "stdout",
     "output_type": "stream",
     "text": [
      "Start 9 / 18\n"
     ]
    },
    {
     "name": "stderr",
     "output_type": "stream",
     "text": [
      "  1%|          | 1/125 [00:00<00:52,  2.38it/s]"
     ]
    }
   ],
   "source": [
    "# The number of multiple datapoints\n",
    "num_sample = 1000\n",
    "\n",
    "data = next(datasets)\n",
    "data = data[0][:, 1, ...] # 8 samples\n",
    "\n",
    "# tmp_timestep = 60\n",
    "for timestep in range(0, n_timestep, 6):\n",
    "# for timestep in range(tmp_timestep, 1, -1):\n",
    "    # if timestep == 18:\n",
    "    #     timestep = 17\n",
    "    timestep = 9\n",
    "    print(f\"Start {timestep} / {n_timestep}\")\n",
    "    \n",
    "    rng, sampling_rng = jax.random.split(rng)\n",
    "    noise = jax.random.normal(sampling_rng, shape=data.shape) * t_steps[timestep]\n",
    "    # noise = jax.random.normal(sampling_rng, shape=data.shape) * timestep\n",
    "\n",
    "    # Get denoiser output\n",
    "    denoiser_output = denoiser_framework.sampling_denoiser(num_sample, original_data=data, sweep_timesteps=timestep, noise=noise)\n",
    "\n",
    "    # Get consistency output\n",
    "    consistency_output = consistency_framework.sampling_cm_intermediate(num_sample, original_data=data, sweep_timesteps=timestep, noise=noise)\n",
    "\n",
    "    # Sample multiple datapoints\n",
    "    sampling_list = []\n",
    "    num_batch = num_sample // consistency_output.shape[0]\n",
    "    for i in tqdm(range(num_batch)):\n",
    "        rng, sampling_rng = jax.random.split(rng)\n",
    "        new_noise = jax.random.normal(sampling_rng, shape=consistency_output.shape) * t_steps[timestep]\n",
    "        # new_noise = jax.random.normal(sampling_rng, shape=consistency_output.shape) * timestep\n",
    "\n",
    "        second_consistency_output = consistency_framework.sampling_cm_intermediate(\n",
    "            num_sample, original_data=consistency_output, sweep_timesteps=timestep, noise=new_noise)\n",
    "        sampling_list.append(second_consistency_output)\n",
    "\n",
    "    # sampling_list = jnp.concatenate(sampling_list, axis=0)\n",
    "    sampling_list = jnp.stack(sampling_list, axis=0)\n",
    "    second_consistency_output_empirical_mean = jnp.mean(sampling_list, axis=0)\n",
    "    # denoiser_output_empirical_mean = jnp.mean(denoiser_output, axis=0)\n",
    "    error = jnp.mean(jnp.abs(second_consistency_output_empirical_mean - denoiser_output), axis=(-1, -2, -3))\n",
    "    # error = jnp.mean(jnp.abs(second_consistency_output_empirical_mean - data), axis=(-1, -2, -3))\n",
    "    # error = jnp.mean(jnp.abs(second_consistency_output_empirical_mean - denoiser_output_empirical_mean))\n",
    "    print(\"Error of mean: \", error.flatten())\n",
    "    print(\"Total mean of error: \", jnp.mean(error))\n",
    "\n",
    "    viz_list = jnp.concatenate([denoiser_output[0], second_consistency_output_empirical_mean[0]], axis=0)\n",
    "    viz_sample(viz_list, title=f\"timestep: {timestep}\")\n"
   ]
  },
  {
   "cell_type": "code",
   "execution_count": null,
   "metadata": {},
   "outputs": [],
   "source": []
  }
 ],
 "metadata": {
  "kernelspec": {
   "display_name": "venv",
   "language": "python",
   "name": "python3"
  },
  "language_info": {
   "codemirror_mode": {
    "name": "ipython",
    "version": 3
   },
   "file_extension": ".py",
   "mimetype": "text/x-python",
   "name": "python",
   "nbconvert_exporter": "python",
   "pygments_lexer": "ipython3",
   "version": "3.8.10"
  }
 },
 "nbformat": 4,
 "nbformat_minor": 2
}
