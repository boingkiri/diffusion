{
 "cells": [
  {
   "cell_type": "code",
   "execution_count": 13,
   "metadata": {},
   "outputs": [],
   "source": [
    "import jax\n",
    "import jax.numpy as jnp\n",
    "import flax\n",
    "from flax.training import checkpoints\n",
    "# import orbax.checkpoint as ocp \n",
    "import orbax\n",
    "\n",
    "from typing import Any\n",
    "import matplotlib.pyplot as plt\n",
    "import yaml\n",
    "import omegaconf\n",
    "import hydra\n",
    "from hydra import initialize, compose\n",
    "\n",
    "from model.unetpp import CMPrecond, ScoreDistillPrecond, EDMPrecond\n",
    "from framework.unifying_framework import UnifyingFramework\n",
    "from framework.diffusion.consistency_framework import CMFramework\n",
    "from framework.diffusion.edm_framework import EDMFramework\n",
    "\n",
    "from utils import common_utils\n",
    "from utils.fid_utils import FIDUtils\n",
    "from utils.fs_utils import FSUtils\n",
    "import utils.jax_utils as jax_utils\n",
    "\n",
    "from tqdm import tqdm\n",
    "\n",
    "from functools import partial\n",
    "\n",
    "import os "
   ]
  },
  {
   "cell_type": "code",
   "execution_count": 9,
   "metadata": {},
   "outputs": [],
   "source": [
    "# Setting CM framework for sampling\n",
    "\n",
    "config_path = \"configs\"\n",
    "default_config_path = \"config\"\n",
    "rng = jax.random.PRNGKey(42)\n",
    "\n",
    "with initialize(version_base=None, config_path=config_path):\n",
    "    default_config = compose(config_name=default_config_path)\n",
    "default_config[\"do_training\"] = False\n",
    "model_type = default_config.type\n",
    "\n",
    "rng, denoiser_rng = jax.random.split(rng, 2)\n",
    "rng, consistency_rng = jax.random.split(rng, 2)\n",
    "# denoiser_framework = diffusion_framework.framework\n",
    "# fid_utils = FIDUtils(default_config)\n",
    "# fs_utils = FSUtils(default_config)\n",
    "\n",
    "# consistency_framework = CMFramework(default_config, consistency_rng, fs_utils, None)"
   ]
  },
  {
   "cell_type": "code",
   "execution_count": 10,
   "metadata": {},
   "outputs": [],
   "source": [
    "diffusion_framework = default_config.framework.diffusion\n",
    "n_timestep = diffusion_framework['n_timestep']\n",
    "type = diffusion_framework['type']\n",
    "learn_sigma = diffusion_framework['learn_sigma']\n",
    "pmap_axis = \"batch\"\n",
    "\n",
    "# Create UNet and its state\n",
    "model_config = {**default_config.model.diffusion}\n",
    "model_type = model_config.pop(\"type\")\n",
    "\n",
    "head_config = {**default_config.model.head}\n",
    "head_type = head_config.pop(\"type\")\n",
    "head_type = head_type\n",
    "model = CMPrecond(model_config, \n",
    "                        image_channels=model_config['image_channels'], \n",
    "                        model_type=model_type, \n",
    "                        sigma_min=diffusion_framework['sigma_min'],\n",
    "                        sigma_max=diffusion_framework['sigma_max'])\n",
    "head = ScoreDistillPrecond(head_config, \n",
    "                        image_channels=model_config['image_channels'], \n",
    "                        sigma_min=diffusion_framework['sigma_min'],\n",
    "                        sigma_max=diffusion_framework['sigma_max'],\n",
    "                        model_type=head_type)\n"
   ]
  },
  {
   "cell_type": "code",
   "execution_count": 14,
   "metadata": {},
   "outputs": [],
   "source": [
    "class TrainState(jax_utils.TrainState):\n",
    "    target_model: Any = None\n",
    "\n",
    "rng, param_rng, dropout_rng = jax.random.split(rng, 3)\n",
    "rng_dict = {\"params\": param_rng, 'dropout': dropout_rng}\n",
    "input_format = jnp.ones([1, *default_config.dataset.data_size])\n",
    "\n",
    "torso_params = model.init(\n",
    "    rng_dict, x=input_format, sigma=jnp.ones([1,]), train=False, augment_labels=None)['params']\n",
    "\n",
    "D_x, aux = model.apply(\n",
    "        {'params': torso_params}, x=input_format, sigma=jnp.ones([1,]), \n",
    "        train=False, augment_labels=None, rngs={'dropout': dropout_rng})\n",
    "model_tx = jax_utils.create_optimizer(default_config, \"diffusion\")\n",
    "new_torso_state = TrainState.create(\n",
    "    apply_fn=model.apply,\n",
    "    params=torso_params,\n",
    "    params_ema=torso_params,\n",
    "    target_model=torso_params, # NEW!\n",
    "    tx=model_tx\n",
    ")\n",
    "torso_state = new_torso_state\n",
    "\n",
    "if not default_config.framework.diffusion.only_cm_training:\n",
    "    F_x, t_emb, last_x_emb = aux\n",
    "    rng, param_rng, dropout_rng = jax.random.split(rng, 3)\n",
    "    rng_dict = {\"params\": param_rng, 'dropout': dropout_rng}\n",
    "    head_params = head.init(rng_dict, x=input_format, sigma=jnp.ones([1,]), F_x=D_x, last_x_emb=last_x_emb, t_emb=t_emb,\n",
    "                                    train=False, augment_labels=None)['params']\n",
    "\n",
    "    head_tx = jax_utils.create_optimizer(default_config, \"diffusion\")\n",
    "\n",
    "    new_head_state = TrainState.create(\n",
    "        apply_fn=head.apply,\n",
    "        params=head_params,\n",
    "        params_ema=head_params,\n",
    "        tx=head_tx\n",
    "    )\n",
    "    head_state = new_head_state"
   ]
  },
  {
   "cell_type": "code",
   "execution_count": 16,
   "metadata": {},
   "outputs": [],
   "source": [
    "def load_state_from_checkpoint_dir(checkpoint_dir, state, step, checkpoint_prefix=\"checkpoint_\"):\n",
    "    state = checkpoints.restore_checkpoint(checkpoint_dir, state, prefix=checkpoint_prefix, step=step)\n",
    "    print(f\"Checkpoint {state.step} loaded\")\n",
    "    return state"
   ]
  },
  {
   "cell_type": "code",
   "execution_count": 21,
   "metadata": {},
   "outputs": [],
   "source": [
    "def load_model_state_flax(model_type, state, checkpoint_dir=None):\n",
    "    # prefix = self.get_state_prefix(model_type)\n",
    "    prefix = model_type\n",
    "    prefix = prefix + \"_\" if prefix[-1] != \"_\" else prefix\n",
    "    \n",
    "    if checkpoint_dir is None:\n",
    "        checkpoint_dir = default_config.exp.checkpoint_dir\n",
    "    state = jax_utils.load_state_from_checkpoint_dir(checkpoint_dir, state, None, prefix)\n",
    "    return state"
   ]
  },
  {
   "cell_type": "code",
   "execution_count": 27,
   "metadata": {},
   "outputs": [
    {
     "name": "stdout",
     "output_type": "stream",
     "text": [
      "Checkpoint 800010 loaded\n"
     ]
    },
    {
     "data": {
      "text/plain": [
       "True"
      ]
     },
     "execution_count": 27,
     "metadata": {},
     "output_type": "execute_result"
    }
   ],
   "source": [
    "# try:\n",
    "#     fs_utils.load_model_state(states)\n",
    "#     raise ValueError(\"Model state is loaded\")\n",
    "# except:\n",
    "model_dict = {}\n",
    "torso_checkpoint_dir = diffusion_framework['torso_checkpoint_path']\n",
    "torso_prefix = \"torso\"\n",
    "if torso_checkpoint_dir is not None:\n",
    "    torso_prefix = \"diffusion\"\n",
    "else:\n",
    "    for checkpoint in os.listdir(default_config.exp.checkpoint_dir):\n",
    "        if torso_prefix in checkpoint:\n",
    "            torso_checkpoint_dir = default_config.exp.checkpoint_dir\n",
    "            break\n",
    "torso_state = load_model_state_flax(torso_prefix, torso_state)\n",
    "model_dict['diffusion'] = torso_state\n",
    "\n",
    "if not default_config.framework.diffusion.only_cm_training:\n",
    "    head_checkpoint_dir = diffusion_framework['head_checkpoint_path']\n",
    "    head_prefix = \"head\"\n",
    "    for checkpoint in os.listdir(default_config.exp.checkpoint_dir):\n",
    "        if \"head\" in checkpoint:\n",
    "            head_checkpoint_dir = default_config.exp.checkpoint_dir\n",
    "            break\n",
    "    head_state = load_model_state_flax(head_prefix, head_state)\n",
    "    \n",
    "    model_dict['dict'] = head_state\n",
    "\n",
    "# fs_utils.load_model_state(model_dict)\n",
    "step = torso_state.step\n",
    "abs_path_ = os.getcwd() + \"/\"\n",
    "tmp_checkpoint_path = abs_path_ + default_config.exp.checkpoint_dir + \"/\" + \"migration\"\n",
    "\n",
    "options = orbax.checkpoint.CheckpointManagerOptions(create=True)\n",
    "model_checkpoint_manager = orbax.checkpoint.CheckpointManager(\n",
    "    tmp_checkpoint_path,\n",
    "    {model_key: orbax.checkpoint.PyTreeCheckpointer() for model_key in model_dict.keys()})\n",
    "model_checkpoint_manager.save(step, model_dict)\n"
   ]
  },
  {
   "cell_type": "code",
   "execution_count": null,
   "metadata": {},
   "outputs": [],
   "source": [
    "import shutil\n",
    "migrated_ckpt = os.listdir(tmp_checkpoint_path)[0]\n",
    "shutil.move(tmp_checkpoint_path + \"/\" + migrated_ckpt, default_config.exp.checkpoint_dir + \"/\" + migrated_ckpt)"
   ]
  }
 ],
 "metadata": {
  "kernelspec": {
   "display_name": "Python 3",
   "language": "python",
   "name": "python3"
  },
  "language_info": {
   "codemirror_mode": {
    "name": "ipython",
    "version": 3
   },
   "file_extension": ".py",
   "mimetype": "text/x-python",
   "name": "python",
   "nbconvert_exporter": "python",
   "pygments_lexer": "ipython3",
   "version": "3.8.10"
  }
 },
 "nbformat": 4,
 "nbformat_minor": 2
}
