{
 "cells": [
  {
   "cell_type": "markdown",
   "metadata": {},
   "source": [
    "# All in one sampling ipynb\n",
    "\n",
    "This file is for evaluation of CM-SH model that measure the FID score of \n",
    "1. one-step sampling for CM\n",
    "2. multi-step sampling for CM\n",
    "3. multi-step sampling for SH "
   ]
  },
  {
   "cell_type": "code",
   "execution_count": 1,
   "metadata": {},
   "outputs": [
    {
     "name": "stderr",
     "output_type": "stream",
     "text": [
      "2024-01-18 21:09:13.535459: W tensorflow/compiler/tf2tensorrt/utils/py_utils.cc:38] TF-TRT Warning: Could not find TensorRT\n",
      "/mnt/home/jeongjun/.conda/envs/diffusion_vessl/lib/python3.10/site-packages/tqdm/auto.py:21: TqdmWarning: IProgress not found. Please update jupyter and ipywidgets. See https://ipywidgets.readthedocs.io/en/stable/user_install.html\n",
      "  from .autonotebook import tqdm as notebook_tqdm\n"
     ]
    }
   ],
   "source": [
    "import jax\n",
    "import jax.numpy as jnp\n",
    "import flax\n",
    "\n",
    "import matplotlib.pyplot as plt\n",
    "import yaml\n",
    "import omegaconf\n",
    "import hydra\n",
    "from hydra import initialize, compose\n",
    "\n",
    "from framework.unifying_framework import UnifyingFramework\n",
    "from framework.diffusion.consistency_framework import CMFramework\n",
    "from framework.diffusion.edm_framework import EDMFramework\n",
    "\n",
    "from utils import common_utils\n",
    "from utils.fid_utils import FIDUtils\n",
    "from utils.fs_utils import FSUtils\n",
    "\n",
    "from tqdm import tqdm\n",
    "\n",
    "from functools import partial\n",
    "\n",
    "import os "
   ]
  },
  {
   "cell_type": "code",
   "execution_count": 2,
   "metadata": {},
   "outputs": [],
   "source": [
    "# Make new directory for storing samples for each sampling mode\n",
    "default_path = \"tmp/1024_20/\"\n",
    "edm_multistep = default_path+ \"edm_multistep\"\n",
    "cm_onestep = default_path+ \"cm_onestep\"\n",
    "cm_multistep = default_path+ \"cm_multistep\"\n",
    "dir_list = [cm_onestep, cm_multistep, edm_multistep]\n",
    "\n",
    "for dir_elem in dir_list:\n",
    "    os.makedirs(dir_elem, exist_ok=True)"
   ]
  },
  {
   "cell_type": "code",
   "execution_count": 3,
   "metadata": {},
   "outputs": [],
   "source": [
    "sampling_batch_num = 512\n",
    "total_sampling_num = 50000\n",
    "sigma_max = 80.0\n",
    "sigma_min = 0.002\n",
    "rho = 7"
   ]
  },
  {
   "cell_type": "code",
   "execution_count": 4,
   "metadata": {},
   "outputs": [],
   "source": [
    "# Setting CM framework for sampling\n",
    "\n",
    "config_path = \"configs\"\n",
    "default_config_path = \"config_1024_20_2560\"\n",
    "rng = jax.random.PRNGKey(42)\n",
    "\n",
    "with initialize(version_base=None, config_path=config_path):\n",
    "    default_config = compose(config_name=default_config_path)\n",
    "default_config[\"do_training\"] = False\n",
    "model_type = default_config.type\n",
    "\n",
    "rng, denoiser_rng = jax.random.split(rng, 2)\n",
    "rng, consistency_rng = jax.random.split(rng, 2)\n",
    "# denoiser_framework = diffusion_framework.framework\n",
    "fid_utils = FIDUtils(default_config)\n",
    "fs_utils = FSUtils(default_config)\n",
    "\n",
    "consistency_framework = CMFramework(default_config, consistency_rng, fs_utils, None)"
   ]
  },
  {
   "cell_type": "code",
   "execution_count": 5,
   "metadata": {},
   "outputs": [
    {
     "name": "stdout",
     "output_type": "stream",
     "text": [
      "{'available_gpus': '0, 1, 2, 3, 4, 5, 6, 7', 'dataset': {'data_size': [32, 32, 3], 'name': 'cifar10'}, 'do_sampling': True, 'do_training': False, 'ema': {'beta': 0.99993}, 'exp': {'autoencoder_prefix': 'ae_', 'best_dir': 'experiments/0114_iCT_1024_20_2560/checkpoints/best', 'checkpoint_dir': 'experiments/0114_iCT_1024_20_2560/checkpoints', 'cm_prefix': 'cm_', 'current_exp_dir': 'experiments/0114_iCT_1024_20_2560', 'diffusion_prefix': 'diffusion_', 'discriminator_prefix': 'discriminator_', 'exp_dir': 'experiments', 'in_process_dir': 'experiments/0114_iCT_1024_20_2560/in_process', 'sampling_dir': 'experiments/0114_iCT_1024_20_2560/sampling'}, 'exp_name': '0114_iCT_1024_20_2560', 'fid_during_training': True, 'framework': {'diffusion': {'alignment_loss': False, 'alignment_loss_scale': 1.0, 'alignment_loss_weight': 'lognormal', 'alignment_threshold': 50000, 'gradient_flow_from_head': True, 'joint_training_weight': 1, 'learn_sigma': False, 'loss': 'huber', 'n_timestep': 18, 'params_ema_for_training': [0.9, 20, 2560], 'pseudo_huber_loss_c': 0.03, 'rho': 7, 'sigma_max': 80, 'sigma_min': 0.002, 'sigma_sampling_joint': 'iCT', 'train': {'batch_size_per_rounds': 512, 'learning_rate': 0.0001, 'optimizer': {'type': 'radam'}, 'sampling_step': 10000, 'saving_step': 100000, 'total_batch_size': 1024, 'total_step': 400000}, 'type': 'cm'}}, 'model': {'diffusion': {'attention_type': 'ddpm', 'attn_resolutions': [16], 'beta_max': 20.0, 'beta_min': 0.1, 'ch_mult': [2, 2, 2], 'conditional': True, 'conv_size': 3, 'data_std': 0.5, 'double_heads': False, 'dropout': 0.3, 'ema_rate': 0.9999, 'embedding_type': 'fourier', 'fir': True, 'fir_kernel': [1, 3, 3, 1], 'fourier_scale': 0.02, 'image_channels': 3, 'init_scale': 0.0, 'name': 'ncsnpp', 'nf': 128, 'nonlinearity': 'swish', 'normalization': 'GroupNorm', 'num_res_blocks': 4, 'num_scales': 18, 'progressive': 'none', 'progressive_combine': 'sum', 'progressive_input': 'residual', 'resamp_with_conv': True, 'resblock_type': 'biggan', 'rho': 7.0, 'sigma_max': 80.0, 'sigma_min': 0.002, 'skip_rescale': True, 't_max': 80.0, 't_min': 0.002, 'type': 'original_unetpp'}, 'head': {'augment_dim': 9, 'ch_mults': [2, 2, 2], 'decoder_type': 'standard', 'dropout_rate': 0.0, 'embedding_type': 'positional', 'encoder_type': 'standard', 'image_channels': 3, 'input_channels': 256, 'input_t_embed': True, 'is_atten': [False, True, False], 'label_dim': 0, 'label_dropout_rate': 0.0, 'learn_sigma': False, 'n_blocks': 1, 'n_channels': 128, 'n_groups': 32, 'n_heads': 1, 'resample_filter': [1, 1], 'type': 'unetpp'}}, 'n_jitted_steps': 10, 'num_sampling': 50000, 'rand_seed': 42, 'sampling_batch': 256, 'tags': ['iCT'], 'type': 'cm'}\n"
     ]
    }
   ],
   "source": [
    "print(default_config)"
   ]
  },
  {
   "cell_type": "code",
   "execution_count": 6,
   "metadata": {},
   "outputs": [
    {
     "name": "stdout",
     "output_type": "stream",
     "text": [
      "Sampling CM onestep and SH multistep\n"
     ]
    },
    {
     "name": "stderr",
     "output_type": "stream",
     "text": [
      "18it [01:29,  4.96s/it]\n",
      "18it [00:36,  2.02s/it]\n",
      "18it [00:36,  2.03s/it]\n",
      "18it [00:36,  2.03s/it]\n",
      "18it [00:36,  2.03s/it]\n",
      "18it [00:36,  2.03s/it]\n",
      "18it [00:36,  2.03s/it]\n",
      "18it [00:36,  2.04s/it]\n",
      "18it [00:36,  2.03s/it]\n",
      "18it [00:36,  2.04s/it]\n",
      "18it [00:36,  2.04s/it]\n",
      "18it [00:36,  2.03s/it]\n",
      "18it [00:36,  2.03s/it]\n",
      "18it [00:36,  2.04s/it]\n",
      "18it [00:36,  2.04s/it]\n",
      "18it [00:36,  2.04s/it]\n",
      "18it [00:36,  2.04s/it]\n",
      "18it [00:36,  2.03s/it]\n",
      "18it [00:36,  2.03s/it]\n",
      "18it [00:36,  2.03s/it]\n",
      "18it [00:36,  2.03s/it]\n",
      "18it [00:36,  2.04s/it]\n",
      "18it [00:36,  2.04s/it]\n",
      "18it [00:36,  2.04s/it]\n",
      "18it [00:36,  2.03s/it]\n",
      "18it [00:36,  2.04s/it]\n",
      "18it [00:36,  2.03s/it]\n",
      "18it [00:36,  2.04s/it]\n",
      "18it [00:36,  2.03s/it]\n",
      "18it [00:36,  2.03s/it]\n",
      "18it [00:36,  2.03s/it]\n",
      "18it [00:36,  2.03s/it]\n",
      "18it [00:36,  2.03s/it]\n",
      "18it [00:36,  2.03s/it]\n",
      "18it [00:36,  2.03s/it]\n",
      "18it [00:36,  2.03s/it]\n",
      "18it [00:36,  2.03s/it]\n",
      "18it [00:36,  2.03s/it]\n",
      "18it [00:36,  2.03s/it]\n",
      "18it [00:36,  2.03s/it]\n",
      "18it [00:36,  2.03s/it]\n",
      "18it [00:36,  2.04s/it]\n",
      "18it [00:36,  2.03s/it]\n",
      "18it [00:36,  2.03s/it]\n",
      "18it [00:36,  2.03s/it]\n",
      "18it [00:36,  2.03s/it]\n",
      "18it [00:36,  2.03s/it]\n",
      "18it [00:36,  2.03s/it]\n",
      "18it [00:36,  2.03s/it]\n",
      "18it [00:36,  2.03s/it]\n",
      "18it [00:36,  2.03s/it]\n",
      "18it [00:36,  2.03s/it]\n",
      "18it [00:36,  2.03s/it]\n",
      "18it [00:36,  2.03s/it]\n",
      "18it [00:36,  2.03s/it]\n",
      "18it [00:36,  2.03s/it]\n",
      "18it [00:36,  2.03s/it]\n",
      "18it [00:36,  2.03s/it]\n",
      "18it [00:36,  2.03s/it]\n",
      "18it [00:36,  2.03s/it]\n",
      "18it [00:36,  2.03s/it]\n",
      "18it [00:36,  2.03s/it]\n",
      "18it [00:36,  2.03s/it]\n",
      "18it [00:36,  2.03s/it]\n",
      "18it [00:36,  2.03s/it]\n",
      "18it [00:36,  2.03s/it]\n",
      "18it [00:36,  2.03s/it]\n",
      "18it [00:36,  2.03s/it]\n",
      "18it [00:36,  2.03s/it]\n",
      "18it [00:36,  2.03s/it]\n",
      "18it [00:36,  2.03s/it]\n",
      "18it [00:36,  2.03s/it]\n",
      "18it [00:36,  2.03s/it]\n",
      "18it [00:36,  2.03s/it]\n",
      "18it [00:36,  2.03s/it]\n",
      "18it [00:36,  2.03s/it]\n",
      "18it [00:36,  2.03s/it]\n",
      "18it [00:36,  2.03s/it]\n",
      "18it [00:36,  2.03s/it]\n",
      "18it [00:36,  2.03s/it]\n",
      "18it [00:36,  2.03s/it]\n",
      "18it [00:36,  2.03s/it]\n",
      "18it [00:36,  2.03s/it]\n",
      "18it [00:36,  2.03s/it]\n",
      "18it [00:36,  2.03s/it]\n",
      "18it [00:36,  2.03s/it]\n",
      "18it [00:36,  2.03s/it]\n",
      "18it [00:36,  2.03s/it]\n",
      "18it [00:36,  2.03s/it]\n",
      "18it [00:36,  2.03s/it]\n",
      "18it [00:36,  2.03s/it]\n",
      "18it [00:36,  2.03s/it]\n",
      "18it [00:36,  2.03s/it]\n",
      "18it [00:36,  2.03s/it]\n",
      "18it [00:36,  2.03s/it]\n",
      "18it [00:36,  2.03s/it]\n",
      "18it [00:36,  2.03s/it]\n",
      "18it [00:36,  2.03s/it]\n"
     ]
    }
   ],
   "source": [
    "# First, save SH and CM simultaneously if CM-SH mode\n",
    "current_num = 0\n",
    "print(\"Sampling CM onestep and SH multistep\")\n",
    "sampling_shape = (sampling_batch_num, 32, 32, 3)\n",
    "\n",
    "while total_sampling_num > current_num:\n",
    "    effective_batch_size = total_sampling_num - current_num if current_num + sampling_batch_num > total_sampling_num else sampling_batch_num\n",
    "    # if not default_config.framework.diffusion.only_cm_training:\n",
    "    #     edm, cm = consistency_framework.sampling_edm_and_cm(sampling_batch_num)\n",
    "    #     edm = jnp.reshape(edm, sampling_shape)\n",
    "    #     fs_utils.save_images_to_dir(edm, starting_pos=current_num, save_path_dir=edm_multistep)\n",
    "    # else:\n",
    "    #     cm = consistency_framework.sampling_cm(sampling_batch_num)\n",
    "    edm, cm = consistency_framework.sampling_edm_and_cm(sampling_batch_num)\n",
    "    edm = jnp.reshape(edm, sampling_shape)\n",
    "    fs_utils.save_images_to_dir(edm, starting_pos=current_num, save_path_dir=edm_multistep)\n",
    "    \n",
    "    cm = jnp.reshape(cm, sampling_shape)\n",
    "    fs_utils.save_images_to_dir(cm, starting_pos=current_num, save_path_dir=cm_onestep)\n",
    "    current_num += sampling_batch_num"
   ]
  },
  {
   "cell_type": "code",
   "execution_count": null,
   "metadata": {},
   "outputs": [],
   "source": [
    "fs_utils.delete_images_from_dir(edm_multistep, starting_pos=total_sampling_num)\n",
    "fs_utils.delete_images_from_dir(cm_onestep, starting_pos=total_sampling_num)"
   ]
  },
  {
   "cell_type": "code",
   "execution_count": 7,
   "metadata": {},
   "outputs": [
    {
     "name": "stdout",
     "output_type": "stream",
     "text": [
      "Loading cifar10 statistics\n"
     ]
    },
    {
     "name": "stderr",
     "output_type": "stream",
     "text": [
      "100%|██████████| 50176/50176 [04:30<00:00, 185.65it/s]\n"
     ]
    },
    {
     "name": "stdout",
     "output_type": "stream",
     "text": [
      "EDM multistep score: 2.888\n",
      "Loading cifar10 statistics\n"
     ]
    },
    {
     "name": "stderr",
     "output_type": "stream",
     "text": [
      "100%|██████████| 50176/50176 [04:22<00:00, 191.23it/s]\n"
     ]
    },
    {
     "name": "stdout",
     "output_type": "stream",
     "text": [
      "CM onestep score: 3.865\n"
     ]
    }
   ],
   "source": [
    "# if not default_config.framework.diffusion.only_cm_training:\n",
    "edm_multistep_fid_score = fid_utils.calculate_fid(edm_multistep)\n",
    "print(f\"EDM multistep score: {edm_multistep_fid_score:.3f}\")\n",
    "cm_onestep_fid_score = fid_utils.calculate_fid(cm_onestep)\n",
    "print(f\"CM onestep score: {cm_onestep_fid_score:.3f}\")"
   ]
  },
  {
   "cell_type": "code",
   "execution_count": 13,
   "metadata": {},
   "outputs": [],
   "source": [
    "# Next, do some CM multistep sampling\n",
    "multisampling_fid_dict = {}"
   ]
  },
  {
   "cell_type": "code",
   "execution_count": 14,
   "metadata": {},
   "outputs": [],
   "source": [
    "\n",
    "\n",
    "def stochastic_iterative_sampler(\n",
    "    rng,\n",
    "    num_sampling,\n",
    "    distiller: CMFramework,\n",
    "    ts,\n",
    "    t_min=0.002,\n",
    "    t_max=80.0,\n",
    "    rho=7.0,\n",
    "    steps=40,\n",
    "):\n",
    "    # t_max_rho = t_max ** (1 / rho)\n",
    "    # t_min_rho = t_min ** (1 / rho)\n",
    "\n",
    "    params = flax.jax_utils.replicate(distiller.torso_state.params_ema)\n",
    "    sampling_fn = distiller.p_sample_cm # params: sampling_params, latent_sample, rng_key, gamma, t_max, t_min\n",
    "    \n",
    "    # Sampling x from sampler\n",
    "    input_shape = (jax.local_device_count(), num_sampling // jax.local_device_count(), 32, 32, 3)\n",
    "    rng, sampling_key = jax.random.split(rng, 2)\n",
    "    x = jax.random.normal(sampling_key, input_shape) * t_max\n",
    "    \n",
    "    for i in range(len(ts) - 1):\n",
    "        # t = (t_max_rho + ts[i] / (steps - 1) * (t_min_rho - t_max_rho)) ** rho\n",
    "        t = ts[i]\n",
    "\n",
    "        # x0 = distiller(x, t * s_in)\n",
    "        sampling_key, p_sample_key = jax.random.split(sampling_key, 2)\n",
    "        p_sample_key = jax.random.split(p_sample_key, jax.local_device_count())\n",
    "        \n",
    "        t_param = jnp.asarray([t] * jax.local_device_count())\n",
    "        t_min_param = jnp.asarray([t_min] * jax.local_device_count())\n",
    "        gamma = jnp.zeros((jax.local_device_count(),))\n",
    "\n",
    "        x0 = sampling_fn(params, x, p_sample_key, gamma, t_param, t_min_param)\n",
    "        # next_t = (t_max_rho + ts[i + 1] / (steps - 1) * (t_min_rho - t_max_rho)) ** rho\n",
    "        next_t = ts[i+1]\n",
    "        next_t = jnp.clip(next_t, t_min, t_max)\n",
    "\n",
    "        rng, normal_rng = jax.random.split(rng, 2)\n",
    "        x = x0 + jax.random.normal(normal_rng, input_shape) * jnp.sqrt(next_t**2 - t_min**2)\n",
    "    \n",
    "    return x"
   ]
  },
  {
   "cell_type": "code",
   "execution_count": 15,
   "metadata": {},
   "outputs": [],
   "source": [
    "def get_fid(rng, sampling_fn, p, begin=(0,), end=(17, ), sample_dir=\".\"):\n",
    "    total_size = 50000\n",
    "    batch_size = sampling_batch_num\n",
    "    current_sampling_num = 0\n",
    "\n",
    "    ts = begin + (p,) + end\n",
    "\n",
    "    if multisampling_fid_dict.get(ts, None) is not None:\n",
    "        return multisampling_fid_dict[ts]\n",
    "\n",
    "    tmp_dir = os.path.join(sample_dir, f\"{p}\")\n",
    "    if not os.path.exists(tmp_dir):\n",
    "        os.makedirs(tmp_dir)\n",
    "\n",
    "    filelist = os.listdir(tmp_dir)\n",
    "    \n",
    "    if len(filelist) == total_size:\n",
    "        fid = fid_utils.calculate_fid(tmp_dir)\n",
    "        multisampling_fid_dict[ts] = fid\n",
    "        return fid\n",
    "\n",
    "    while current_sampling_num < total_size:\n",
    "        effective_sampling = batch_size \\\n",
    "            if (total_size - current_sampling_num) // batch_size != 0 \\\n",
    "            else total_size - current_sampling_num\n",
    "\n",
    "        rng, sampling_rng = jax.random.split(rng, 2)\n",
    "        x0 = sampling_fn(rng=sampling_rng, num_sampling=effective_sampling, ts=ts)\n",
    "        x0 = x0.reshape(-1, *x0.shape[-3:])\n",
    "        fs_utils.save_images_to_dir(x0, tmp_dir, current_sampling_num)\n",
    "        current_sampling_num += effective_sampling\n",
    "    \n",
    "    fid = fid_utils.calculate_fid(tmp_dir)\n",
    "    multisampling_fid_dict[ts] = fid\n",
    "    return fid"
   ]
  },
  {
   "cell_type": "code",
   "execution_count": 16,
   "metadata": {},
   "outputs": [],
   "source": [
    "steps = 18\n",
    "# begin = (0,)\n",
    "# end = (steps - 1,)\n",
    "begin = (80.0, )\n",
    "end = (0.002, )"
   ]
  },
  {
   "cell_type": "code",
   "execution_count": 17,
   "metadata": {},
   "outputs": [
    {
     "ename": "AttributeError",
     "evalue": "module 'os' has no attribute 'makdeirs'",
     "output_type": "error",
     "traceback": [
      "\u001b[0;31m---------------------------------------------------------------------------\u001b[0m",
      "\u001b[0;31mAttributeError\u001b[0m                            Traceback (most recent call last)",
      "Cell \u001b[0;32mIn[17], line 10\u001b[0m\n\u001b[1;32m      7\u001b[0m rng, cm_multistep_sampling \u001b[38;5;241m=\u001b[39m jax\u001b[38;5;241m.\u001b[39mrandom\u001b[38;5;241m.\u001b[39msplit(rng, \u001b[38;5;241m2\u001b[39m)\n\u001b[1;32m      9\u001b[0m \u001b[38;5;66;03m# ternery_search(cm_multistep_sampling, sampler, fid_utils, begin, end, cm_multistep)\u001b[39;00m\n\u001b[0;32m---> 10\u001b[0m \u001b[43mget_fid\u001b[49m\u001b[43m(\u001b[49m\u001b[43mcm_multistep_sampling\u001b[49m\u001b[43m,\u001b[49m\u001b[43m \u001b[49m\u001b[43msampler\u001b[49m\u001b[43m,\u001b[49m\u001b[43m \u001b[49m\u001b[38;5;241;43m0.821\u001b[39;49m\u001b[43m,\u001b[49m\u001b[43m \u001b[49m\u001b[43mbegin\u001b[49m\u001b[43m,\u001b[49m\u001b[43m \u001b[49m\u001b[43mend\u001b[49m\u001b[43m,\u001b[49m\u001b[43m \u001b[49m\u001b[43mcm_multistep\u001b[49m\u001b[43m)\u001b[49m\n",
      "Cell \u001b[0;32mIn[15], line 13\u001b[0m, in \u001b[0;36mget_fid\u001b[0;34m(rng, sampling_fn, p, begin, end, sample_dir)\u001b[0m\n\u001b[1;32m     11\u001b[0m tmp_dir \u001b[38;5;241m=\u001b[39m os\u001b[38;5;241m.\u001b[39mpath\u001b[38;5;241m.\u001b[39mjoin(sample_dir, \u001b[38;5;124mf\u001b[39m\u001b[38;5;124m\"\u001b[39m\u001b[38;5;132;01m{\u001b[39;00mp\u001b[38;5;132;01m}\u001b[39;00m\u001b[38;5;124m\"\u001b[39m)\n\u001b[1;32m     12\u001b[0m \u001b[38;5;28;01mif\u001b[39;00m \u001b[38;5;129;01mnot\u001b[39;00m os\u001b[38;5;241m.\u001b[39mpath\u001b[38;5;241m.\u001b[39mexists(tmp_dir):\n\u001b[0;32m---> 13\u001b[0m     \u001b[43mos\u001b[49m\u001b[38;5;241;43m.\u001b[39;49m\u001b[43mmakdeirs\u001b[49m(tmp_dir)\n\u001b[1;32m     15\u001b[0m filelist \u001b[38;5;241m=\u001b[39m os\u001b[38;5;241m.\u001b[39mlistdir(tmp_dir)\n\u001b[1;32m     17\u001b[0m \u001b[38;5;28;01mif\u001b[39;00m \u001b[38;5;28mlen\u001b[39m(filelist) \u001b[38;5;241m==\u001b[39m total_size:\n",
      "\u001b[0;31mAttributeError\u001b[0m: module 'os' has no attribute 'makdeirs'"
     ]
    }
   ],
   "source": [
    "sampler = partial(stochastic_iterative_sampler, # need rng, num_sampling, ts\n",
    "    distiller=consistency_framework,\n",
    "    t_min=sigma_min,\n",
    "    t_max=sigma_max,\n",
    "    rho=rho,\n",
    "    steps=steps)\n",
    "rng, cm_multistep_sampling = jax.random.split(rng, 2)\n",
    "\n",
    "# ternery_search(cm_multistep_sampling, sampler, fid_utils, begin, end, cm_multistep)\n",
    "get_fid(cm_multistep_sampling, sampler, 0.821, begin, end, cm_multistep)"
   ]
  },
  {
   "cell_type": "code",
   "execution_count": null,
   "metadata": {},
   "outputs": [],
   "source": []
  }
 ],
 "metadata": {
  "kernelspec": {
   "display_name": "venv",
   "language": "python",
   "name": "python3"
  },
  "language_info": {
   "codemirror_mode": {
    "name": "ipython",
    "version": 3
   },
   "file_extension": ".py",
   "mimetype": "text/x-python",
   "name": "python",
   "nbconvert_exporter": "python",
   "pygments_lexer": "ipython3",
   "version": "3.10.13"
  }
 },
 "nbformat": 4,
 "nbformat_minor": 2
}
